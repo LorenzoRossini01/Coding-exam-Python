{
 "cells": [
  {
   "cell_type": "markdown",
   "metadata": {},
   "source": [
    "# Dse Python course"
   ]
  },
  {
   "cell_type": "markdown",
   "metadata": {},
   "source": [
    "### lesson 1"
   ]
  },
  {
   "cell_type": "code",
   "execution_count": 4,
   "metadata": {},
   "outputs": [],
   "source": [
    "import sys # type: ignore\n",
    "import math # type: ignore\n",
    "import datetime # type: ignore\n",
    "import pandas as pd # type: ignore\n",
    "import numpy as np # type: ignore\n",
    "import csv # type: ignore"
   ]
  },
  {
   "cell_type": "markdown",
   "metadata": {},
   "source": [
    "#### return the result of an exam according to the result of three molues"
   ]
  },
  {
   "cell_type": "code",
   "execution_count": 2,
   "metadata": {},
   "outputs": [],
   "source": [
    "m1_grade = 18\n",
    "m2_grade = 20\n",
    "m3_grande = 30"
   ]
  },
  {
   "cell_type": "code",
   "execution_count": 3,
   "metadata": {},
   "outputs": [
    {
     "name": "stdout",
     "output_type": "stream",
     "text": [
      "exam passed\n",
      "22.666666666666668\n"
     ]
    }
   ],
   "source": [
    "grade = (m1_grade + m2_grade + m3_grande)/3\n",
    "\n",
    "if grade >= 18:\n",
    "    print('exam passed')\n",
    "else:\n",
    "    print('exam failed')\n",
    "\n",
    "print(grade)"
   ]
  },
  {
   "cell_type": "code",
   "execution_count": 4,
   "metadata": {},
   "outputs": [
    {
     "name": "stdout",
     "output_type": "stream",
     "text": [
      "exam passed\n",
      "24.5\n"
     ]
    }
   ],
   "source": [
    "# consider that moduled can be weighted\n",
    "\n",
    "m1_weigth = 0.5\n",
    "m2_weigth = 0.5\n",
    "m3_weigth = 1\n",
    "\n",
    "grade = (m1_grade*m1_weigth + m2_grade*m2_weigth + m3_grande*m3_weigth)/(m1_weigth + m2_weigth + m3_weigth)\n",
    "\n",
    "if grade >= 18:\n",
    "    print('exam passed')\n",
    "else:\n",
    "    print('exam failed')\n",
    "\n",
    "print(grade)"
   ]
  },
  {
   "cell_type": "code",
   "execution_count": 5,
   "metadata": {},
   "outputs": [
    {
     "name": "stdout",
     "output_type": "stream",
     "text": [
      "24.5\n"
     ]
    }
   ],
   "source": [
    "# consider to manage courses with a dynamic number of modules\n",
    "\n",
    "grades = [18, 20, 30] # list\n",
    "weights = [0.25, 0.25, 0.5]\n",
    "\n",
    "# iterate over the grades and the weights lists\n",
    "\n",
    "sum_values = 0 # used just to store step by step the results\n",
    "for i, num in enumerate(grades): # enumerate consider each element of the list one by one\n",
    "    sum_values += num * weights[i] # same syntax as : sum_values = sum_values + num*weights[i]\n",
    "    \n",
    "grade = sum_values/sum(weights)\n",
    "\n",
    "print(grade)\n"
   ]
  },
  {
   "cell_type": "markdown",
   "metadata": {},
   "source": [
    "#### enumerate function"
   ]
  },
  {
   "cell_type": "code",
   "execution_count": 6,
   "metadata": {},
   "outputs": [
    {
     "name": "stdout",
     "output_type": "stream",
     "text": [
      "Return type: <class 'enumerate'>\n",
      "[(0, 'eat'), (1, 'sleep'), (2, 'repeat')]\n",
      "[(0, 'g'), (1, 'e'), (2, 'e'), (3, 'k')]\n",
      "[(2, 'g'), (3, 'e'), (4, 'e'), (5, 'k')]\n"
     ]
    }
   ],
   "source": [
    "l1 = [\"eat\", \"sleep\", \"repeat\"]\n",
    "s1 = \"geek\"\n",
    "\n",
    "# creating enumerate objects\n",
    "obj1 = enumerate(l1)\n",
    "obj2 = enumerate(s1)\n",
    "\n",
    "print(\"Return type:\", type(obj1))\n",
    "print(list(enumerate(l1)))\n",
    "\n",
    "print(list(enumerate(s1)))\n",
    "\n",
    "# changing start index to 2 from 0\n",
    "print(list(enumerate(s1, 2)))"
   ]
  },
  {
   "cell_type": "code",
   "execution_count": 7,
   "metadata": {},
   "outputs": [
    {
     "name": "stdout",
     "output_type": "stream",
     "text": [
      "(0, 'eat')\n",
      "(1, 'sleep')\n",
      "(2, 'repeat')\n",
      "100 eat\n",
      "101 sleep\n",
      "102 repeat\n",
      "0\n",
      "eat\n",
      "1\n",
      "sleep\n",
      "2\n",
      "repeat\n"
     ]
    }
   ],
   "source": [
    "l1 = [\"eat\", \"sleep\", \"repeat\"]\n",
    "\n",
    "# printing the tuples in object directly\n",
    "for ele in enumerate(l1):\n",
    "    print(ele)\n",
    "\n",
    "# changing index and printing separately\n",
    "for count, ele in enumerate(l1, 100):\n",
    "    print(count, ele)\n",
    "\n",
    "# getting desired output from tuple\n",
    "for count, ele in enumerate(l1):\n",
    "    print(count)\n",
    "    print(ele)\n"
   ]
  },
  {
   "cell_type": "markdown",
   "metadata": {},
   "source": [
    "### lesson 2"
   ]
  },
  {
   "cell_type": "markdown",
   "metadata": {},
   "source": [
    "#### zip function"
   ]
  },
  {
   "cell_type": "code",
   "execution_count": 8,
   "metadata": {},
   "outputs": [
    {
     "data": {
      "text/plain": [
       "24.5"
      ]
     },
     "execution_count": 8,
     "metadata": {},
     "output_type": "execute_result"
    }
   ],
   "source": [
    "# zip function: zip() function takes iterables (can be zero or more), aggregates them in a tuple, and returns it.\n",
    "\n",
    "grades = [18, 20, 30]\n",
    "weights = [0.25, 0.25, 0.5]\n",
    "\n",
    "sum_modules = 0\n",
    "sum_modules = sum([a*b for a,b in zip(grades, weights)])\n",
    "sum_modules"
   ]
  },
  {
   "cell_type": "code",
   "execution_count": 9,
   "metadata": {},
   "outputs": [
    {
     "name": "stdout",
     "output_type": "stream",
     "text": [
      "[('Java', 14), ('Python', 3), ('JavaScript', 6)]\n"
     ]
    }
   ],
   "source": [
    "languages = ['Java', 'Python', 'JavaScript']\n",
    "versions = [14, 3, 6]\n",
    "\n",
    "result = zip(languages, versions)\n",
    "print(list(result))"
   ]
  },
  {
   "cell_type": "markdown",
   "metadata": {},
   "source": [
    "#### string manipulation"
   ]
  },
  {
   "cell_type": "code",
   "execution_count": 10,
   "metadata": {},
   "outputs": [],
   "source": [
    "s = 'testoLungo'"
   ]
  },
  {
   "cell_type": "code",
   "execution_count": 11,
   "metadata": {},
   "outputs": [
    {
     "data": {
      "text/plain": [
       "'Testolungo'"
      ]
     },
     "execution_count": 11,
     "metadata": {},
     "output_type": "execute_result"
    }
   ],
   "source": [
    "s.capitalize() # convert only the first letter of the string"
   ]
  },
  {
   "cell_type": "code",
   "execution_count": 12,
   "metadata": {},
   "outputs": [
    {
     "data": {
      "text/plain": [
       "'testolungo'"
      ]
     },
     "execution_count": 12,
     "metadata": {},
     "output_type": "execute_result"
    }
   ],
   "source": [
    "s.lower()"
   ]
  },
  {
   "cell_type": "code",
   "execution_count": 13,
   "metadata": {},
   "outputs": [
    {
     "data": {
      "text/plain": [
       "'TESTOLUNGO'"
      ]
     },
     "execution_count": 13,
     "metadata": {},
     "output_type": "execute_result"
    }
   ],
   "source": [
    "s.upper()"
   ]
  },
  {
   "cell_type": "code",
   "execution_count": 14,
   "metadata": {},
   "outputs": [
    {
     "data": {
      "text/plain": [
       "'est'"
      ]
     },
     "execution_count": 14,
     "metadata": {},
     "output_type": "execute_result"
    }
   ],
   "source": [
    "s[1:4]"
   ]
  },
  {
   "cell_type": "code",
   "execution_count": 15,
   "metadata": {},
   "outputs": [
    {
     "data": {
      "text/plain": [
       "'t'"
      ]
     },
     "execution_count": 15,
     "metadata": {},
     "output_type": "execute_result"
    }
   ],
   "source": [
    "s[0]"
   ]
  },
  {
   "cell_type": "code",
   "execution_count": 16,
   "metadata": {},
   "outputs": [
    {
     "data": {
      "text/plain": [
       "'estoLungo'"
      ]
     },
     "execution_count": 16,
     "metadata": {},
     "output_type": "execute_result"
    }
   ],
   "source": [
    "s[1:]"
   ]
  },
  {
   "cell_type": "code",
   "execution_count": 17,
   "metadata": {},
   "outputs": [
    {
     "data": {
      "text/plain": [
       "'o'"
      ]
     },
     "execution_count": 17,
     "metadata": {},
     "output_type": "execute_result"
    }
   ],
   "source": [
    "s[-1]"
   ]
  },
  {
   "cell_type": "code",
   "execution_count": 18,
   "metadata": {},
   "outputs": [
    {
     "data": {
      "text/plain": [
       "'t'"
      ]
     },
     "execution_count": 18,
     "metadata": {},
     "output_type": "execute_result"
    }
   ],
   "source": [
    "s[:1]"
   ]
  },
  {
   "cell_type": "code",
   "execution_count": 19,
   "metadata": {},
   "outputs": [
    {
     "data": {
      "text/plain": [
       "'testoLung'"
      ]
     },
     "execution_count": 19,
     "metadata": {},
     "output_type": "execute_result"
    }
   ],
   "source": [
    "s[:-1]"
   ]
  },
  {
   "cell_type": "code",
   "execution_count": 20,
   "metadata": {},
   "outputs": [
    {
     "data": {
      "text/plain": [
       "'etLno'"
      ]
     },
     "execution_count": 20,
     "metadata": {},
     "output_type": "execute_result"
    }
   ],
   "source": [
    "# we can express three elements: [start:stop:step]\n",
    "\n",
    "s[1::2]"
   ]
  },
  {
   "cell_type": "code",
   "execution_count": 21,
   "metadata": {},
   "outputs": [
    {
     "data": {
      "text/plain": [
       "'nL'"
      ]
     },
     "execution_count": 21,
     "metadata": {},
     "output_type": "execute_result"
    }
   ],
   "source": [
    "s[-3:-6:-2]"
   ]
  },
  {
   "cell_type": "code",
   "execution_count": 22,
   "metadata": {},
   "outputs": [
    {
     "data": {
      "text/plain": [
       "'EON'"
      ]
     },
     "execution_count": 22,
     "metadata": {},
     "output_type": "execute_result"
    }
   ],
   "source": [
    "s[1::3].upper()"
   ]
  },
  {
   "cell_type": "code",
   "execution_count": 23,
   "metadata": {},
   "outputs": [
    {
     "data": {
      "text/plain": [
       "''"
      ]
     },
     "execution_count": 23,
     "metadata": {},
     "output_type": "execute_result"
    }
   ],
   "source": [
    "s[-1:-4] # i get nothing because the -1 position is the starting point"
   ]
  },
  {
   "cell_type": "code",
   "execution_count": 24,
   "metadata": {},
   "outputs": [
    {
     "data": {
      "text/plain": [
       "'o'"
      ]
     },
     "execution_count": 24,
     "metadata": {},
     "output_type": "execute_result"
    }
   ],
   "source": [
    "s[-1]"
   ]
  },
  {
   "cell_type": "code",
   "execution_count": 25,
   "metadata": {},
   "outputs": [
    {
     "data": {
      "text/plain": [
       "'ung'"
      ]
     },
     "execution_count": 25,
     "metadata": {},
     "output_type": "execute_result"
    }
   ],
   "source": [
    "s[-4:-1]"
   ]
  },
  {
   "cell_type": "markdown",
   "metadata": {},
   "source": [
    "#### getting the last 5 letters "
   ]
  },
  {
   "cell_type": "code",
   "execution_count": 26,
   "metadata": {},
   "outputs": [
    {
     "data": {
      "text/plain": [
       "'Lungo'"
      ]
     },
     "execution_count": 26,
     "metadata": {},
     "output_type": "execute_result"
    }
   ],
   "source": [
    "s[-5:]"
   ]
  },
  {
   "cell_type": "code",
   "execution_count": 27,
   "metadata": {},
   "outputs": [
    {
     "data": {
      "text/plain": [
       "'Lungo'"
      ]
     },
     "execution_count": 27,
     "metadata": {},
     "output_type": "execute_result"
    }
   ],
   "source": [
    "s[5:]"
   ]
  },
  {
   "cell_type": "markdown",
   "metadata": {},
   "source": [
    "#### getting the first 5 letters"
   ]
  },
  {
   "cell_type": "code",
   "execution_count": 28,
   "metadata": {},
   "outputs": [
    {
     "data": {
      "text/plain": [
       "'testo'"
      ]
     },
     "execution_count": 28,
     "metadata": {},
     "output_type": "execute_result"
    }
   ],
   "source": [
    "s[:5]"
   ]
  },
  {
   "cell_type": "code",
   "execution_count": 29,
   "metadata": {},
   "outputs": [
    {
     "data": {
      "text/plain": [
       "'testo'"
      ]
     },
     "execution_count": 29,
     "metadata": {},
     "output_type": "execute_result"
    }
   ],
   "source": [
    "s[:-5]"
   ]
  },
  {
   "cell_type": "code",
   "execution_count": 30,
   "metadata": {},
   "outputs": [
    {
     "data": {
      "text/plain": [
       "'ognuLotset'"
      ]
     },
     "execution_count": 30,
     "metadata": {},
     "output_type": "execute_result"
    }
   ],
   "source": [
    "s[-1::-1] # reversed word"
   ]
  },
  {
   "cell_type": "markdown",
   "metadata": {},
   "source": [
    "#### given the string in input, retunr true or false is it is palindrom"
   ]
  },
  {
   "cell_type": "code",
   "execution_count": 31,
   "metadata": {},
   "outputs": [
    {
     "name": "stdout",
     "output_type": "stream",
     "text": [
      "your word is not palindrom\n"
     ]
    }
   ],
   "source": [
    "word = input('insert your word')\n",
    "if word.lower() == word[-1::-1]:\n",
    "    print('your word is palindrom')\n",
    "else:\n",
    "    print('your word is not palindrom')"
   ]
  },
  {
   "cell_type": "markdown",
   "metadata": {},
   "source": [
    "#### functions"
   ]
  },
  {
   "cell_type": "code",
   "execution_count": 32,
   "metadata": {},
   "outputs": [
    {
     "data": {
      "text/plain": [
       "False"
      ]
     },
     "execution_count": 32,
     "metadata": {},
     "output_type": "execute_result"
    }
   ],
   "source": [
    "# since something palindorm is a sort of function, i define a targeted  specification\n",
    "\n",
    "word = input('insert your word')\n",
    "\n",
    "def check_pal(word):\n",
    "    word = word.lower()\n",
    "    if word == word[-1::-1]:\n",
    "        return True\n",
    "    else:\n",
    "        return False\n",
    "    \n",
    "check_pal(word)"
   ]
  },
  {
   "cell_type": "code",
   "execution_count": 33,
   "metadata": {},
   "outputs": [
    {
     "name": "stdout",
     "output_type": "stream",
     "text": [
      "the word 'hjhkjh' is not palindrom\n"
     ]
    }
   ],
   "source": [
    "word = input('insert your word')\n",
    "\n",
    "def check_pal(word):\n",
    "    word = word.lower()\n",
    "    if word == word[-1::-1]:\n",
    "        print(f\"the word '{word}' is palindrom\")\n",
    "    else:\n",
    "        print(f\"the word '{word}' is not palindrom\")\n",
    "    \n",
    "check_pal(word)"
   ]
  },
  {
   "cell_type": "markdown",
   "metadata": {},
   "source": [
    "#### while loop"
   ]
  },
  {
   "cell_type": "code",
   "execution_count": 34,
   "metadata": {},
   "outputs": [
    {
     "data": {
      "text/plain": [
       "False"
      ]
     },
     "execution_count": 34,
     "metadata": {},
     "output_type": "execute_result"
    }
   ],
   "source": [
    "# we want to check if a word is palindrom without the slicing function\n",
    "\n",
    "word = input('insert your word')\n",
    "word = word.lower()\n",
    "\n",
    "def check_pal_iteration(word):\n",
    "    left = 0 # index of the first element\n",
    "    right = len(word)-1 # index of the last element\n",
    "    is_pal = True\n",
    "    \n",
    "    while left < right:\n",
    "        if word[left] != word[right]:\n",
    "            is_pal = False\n",
    "            break # stop execution of the while\n",
    "        \n",
    "        left += 1 # updating loop\n",
    "        right -= 1 # updating loop\n",
    "    \n",
    "    return is_pal\n",
    "\n",
    "check_pal_iteration(word)"
   ]
  },
  {
   "cell_type": "markdown",
   "metadata": {},
   "source": [
    "### exercises on loops"
   ]
  },
  {
   "cell_type": "markdown",
   "metadata": {},
   "source": [
    "#### exercise 1\n",
    "\n",
    "Print first 10 natural numbers using while\n"
   ]
  },
  {
   "cell_type": "code",
   "execution_count": 41,
   "metadata": {},
   "outputs": [
    {
     "name": "stdout",
     "output_type": "stream",
     "text": [
      "1\n",
      "2\n",
      "3\n",
      "4\n",
      "5\n",
      "6\n",
      "7\n",
      "8\n",
      "9\n",
      "10\n"
     ]
    }
   ],
   "source": [
    "i=1\n",
    "\n",
    "while i < 11: # can be written also as: while i <= 10\n",
    "    print(i)\n",
    "    i += 1"
   ]
  },
  {
   "cell_type": "markdown",
   "metadata": {},
   "source": [
    "#### exercise 2\n",
    "\n",
    "Calculate sum of all numbers from 1 to a given number\n"
   ]
  },
  {
   "cell_type": "code",
   "execution_count": 75,
   "metadata": {},
   "outputs": [
    {
     "name": "stdout",
     "output_type": "stream",
     "text": [
      "359976\n"
     ]
    }
   ],
   "source": [
    "num = int(input('enter a number'))\n",
    "i = 0\n",
    "sum = 0\n",
    "\n",
    "while i <= num-1:\n",
    "    next_num = sum + 1\n",
    "    sum = i + next_num\n",
    "    i += 1\n",
    "\n",
    "print(sum)"
   ]
  },
  {
   "cell_type": "code",
   "execution_count": 76,
   "metadata": {},
   "outputs": [
    {
     "name": "stdout",
     "output_type": "stream",
     "text": [
      "359976\n"
     ]
    }
   ],
   "source": [
    "sum = 0\n",
    "num = int(input('enter number'))\n",
    "\n",
    "for i in range(1,num+1,1):\n",
    "    sum += i\n",
    "    \n",
    "print(sum)"
   ]
  },
  {
   "cell_type": "markdown",
   "metadata": {},
   "source": [
    "#### exercise 3\n",
    "\n",
    "Print multiplication table of a given number"
   ]
  },
  {
   "cell_type": "code",
   "execution_count": 109,
   "metadata": {},
   "outputs": [
    {
     "name": "stdout",
     "output_type": "stream",
     "text": [
      "2\n",
      "4\n",
      "6\n",
      "8\n",
      "10\n",
      "12\n",
      "14\n",
      "16\n",
      "18\n",
      "20\n"
     ]
    }
   ],
   "source": [
    "num = int(input('enter number'))\n",
    "\n",
    "i = 1\n",
    "\n",
    "while i <= 10:\n",
    "    mult = num * i\n",
    "    i += 1\n",
    "    \n",
    "    print(mult)\n",
    "    "
   ]
  },
  {
   "cell_type": "code",
   "execution_count": null,
   "metadata": {},
   "outputs": [],
   "source": [
    "num = int(input('enter number'))\n",
    "\n",
    "for i in range (1, 11):\n",
    "    mult = num * i\n",
    "    \n",
    "    print(mult)"
   ]
  },
  {
   "cell_type": "markdown",
   "metadata": {},
   "source": [
    "#### exercise 4\n",
    "\n",
    "Write a Python program to display only those numbers from a list that satisfy the following conditions\n",
    "\n",
    "The number must be divisible by five\n",
    "If the number is greater than 150, then skip it and move to the following number\n",
    "If the number is greater than 500, then stop the loop"
   ]
  },
  {
   "cell_type": "code",
   "execution_count": 122,
   "metadata": {},
   "outputs": [
    {
     "name": "stdout",
     "output_type": "stream",
     "text": [
      "75\n",
      "150\n",
      "145\n"
     ]
    }
   ],
   "source": [
    "numbers = [12, 75, 150, 180, 145, 525, 50]\n",
    "\n",
    "for i in numbers:\n",
    "    if i > 500:\n",
    "        break\n",
    "    if i%5 == 0:\n",
    "        if i <= 150:\n",
    "            \n",
    "            print(i)"
   ]
  },
  {
   "cell_type": "code",
   "execution_count": 123,
   "metadata": {},
   "outputs": [
    {
     "name": "stdout",
     "output_type": "stream",
     "text": [
      "75\n",
      "150\n",
      "145\n"
     ]
    }
   ],
   "source": [
    "numbers = [12, 75, 150, 180, 145, 525, 50]\n",
    "\n",
    "for item in numbers:\n",
    "    if item > 500:\n",
    "        break\n",
    "    elif item > 150:\n",
    "        continue\n",
    "    elif item % 5 == 0:\n",
    "        print(item)"
   ]
  },
  {
   "cell_type": "markdown",
   "metadata": {},
   "source": [
    "#### exercise 5\n",
    "\n",
    "Count the total number of digits in a number"
   ]
  },
  {
   "cell_type": "code",
   "execution_count": 128,
   "metadata": {},
   "outputs": [
    {
     "name": "stdout",
     "output_type": "stream",
     "text": [
      "4\n"
     ]
    }
   ],
   "source": [
    "7\n",
    "num = int(input('enter number'))\n",
    "\n",
    "count = 0\n",
    "while num != 0:\n",
    "    num = num // 10\n",
    "\n",
    "    count = count + 1\n",
    "print(count)"
   ]
  },
  {
   "cell_type": "markdown",
   "metadata": {},
   "source": [
    "#### exercise 6\n",
    "\n",
    "Find the factorial of a given number"
   ]
  },
  {
   "cell_type": "code",
   "execution_count": 152,
   "metadata": {},
   "outputs": [
    {
     "name": "stdout",
     "output_type": "stream",
     "text": [
      "362880\n"
     ]
    }
   ],
   "source": [
    "num = int(input('enter number'))\n",
    "\n",
    "i = num - 1\n",
    "mult = num * i\n",
    "\n",
    "while i > 1:\n",
    "    i -= 1\n",
    "    mult = mult * i\n",
    "\n",
    "print(mult)"
   ]
  },
  {
   "cell_type": "code",
   "execution_count": 153,
   "metadata": {},
   "outputs": [
    {
     "name": "stdout",
     "output_type": "stream",
     "text": [
      "362880\n"
     ]
    }
   ],
   "source": [
    "num = int(input('enter number'))\n",
    "\n",
    "fact = 1\n",
    "\n",
    "for i in range(1, num+1):\n",
    "    fact = fact * i\n",
    "\n",
    "print(fact)"
   ]
  },
  {
   "cell_type": "markdown",
   "metadata": {},
   "source": [
    "#### exercise 7\n",
    "\n",
    "Calculate the cube of all numbers from 1 to a given number"
   ]
  },
  {
   "cell_type": "code",
   "execution_count": 171,
   "metadata": {},
   "outputs": [
    {
     "name": "stdout",
     "output_type": "stream",
     "text": [
      "1\n",
      "8\n",
      "27\n",
      "64\n",
      "125\n",
      "216\n"
     ]
    }
   ],
   "source": [
    "num = int(input('enter number'))\n",
    "\n",
    "for i in range (1, num+1):\n",
    "    cube = i*i*i\n",
    "    i += 1\n",
    "    print(cube)"
   ]
  },
  {
   "cell_type": "markdown",
   "metadata": {},
   "source": [
    "#### exercize 8\n",
    "\n",
    "Write a program to create a function that takes two arguments, name and age, and print their value."
   ]
  },
  {
   "cell_type": "code",
   "execution_count": 8,
   "metadata": {},
   "outputs": [
    {
     "name": "stdout",
     "output_type": "stream",
     "text": [
      "paolo 5\n"
     ]
    }
   ],
   "source": [
    "def print_fun(name,age):\n",
    "\n",
    "    print(name, age)\n",
    "    \n",
    "print_fun('paolo', 5)"
   ]
  },
  {
   "cell_type": "markdown",
   "metadata": {},
   "source": [
    "#### exercise 9\n",
    "\n",
    "Write a program to create function func1() to accept a variable length of arguments and print their value."
   ]
  },
  {
   "cell_type": "code",
   "execution_count": 9,
   "metadata": {},
   "outputs": [
    {
     "name": "stdout",
     "output_type": "stream",
     "text": [
      "2\n",
      "4\n",
      "5\n",
      "2\n",
      "2\n",
      "4\n",
      "5\n"
     ]
    }
   ],
   "source": [
    "# to create functions that take n number of positional arguments we use *args as a parameter\n",
    "# Using this, we can pass any number of arguments to this function. Internally all these values are represented in the form of a tuple\n",
    "\n",
    "def func1(*args):\n",
    "    for i in args:\n",
    "        print(i)\n",
    "        \n",
    "func1(2,4,5,2,2,4,5)"
   ]
  },
  {
   "cell_type": "markdown",
   "metadata": {},
   "source": [
    "#### exercise 10\n",
    "\n",
    "Write a program to create function calculation() such that it can accept two variables and calculate addition and subtraction. Also, it must return both addition and subtraction in a single return call."
   ]
  },
  {
   "cell_type": "code",
   "execution_count": 12,
   "metadata": {},
   "outputs": [
    {
     "name": "stdout",
     "output_type": "stream",
     "text": [
      "10 -4\n"
     ]
    }
   ],
   "source": [
    "val_1 = int(input())\n",
    "val_2 = int(input())\n",
    "\n",
    "def calculation(val_1 = 0, val_2 = 0):\n",
    "    sum = val_1 + val_2\n",
    "    dif = val_1 - val_2\n",
    "    \n",
    "    print(sum, dif)\n",
    "    \n",
    "calculation(val_1, val_2)"
   ]
  },
  {
   "cell_type": "markdown",
   "metadata": {},
   "source": [
    "### lecture 3"
   ]
  },
  {
   "cell_type": "markdown",
   "metadata": {},
   "source": [
    "#### lists"
   ]
  },
  {
   "cell_type": "code",
   "execution_count": 2,
   "metadata": {},
   "outputs": [],
   "source": [
    "items = [1,2,3,4,5,6]"
   ]
  },
  {
   "cell_type": "code",
   "execution_count": 4,
   "metadata": {},
   "outputs": [
    {
     "data": {
      "text/plain": [
       "[1, 2, 3, 4, 5, 6]"
      ]
     },
     "execution_count": 4,
     "metadata": {},
     "output_type": "execute_result"
    }
   ],
   "source": [
    "items"
   ]
  },
  {
   "cell_type": "code",
   "execution_count": 6,
   "metadata": {},
   "outputs": [],
   "source": [
    "# alternative syntax\n",
    "\n",
    "items = list((1,2,3,4,5,6))"
   ]
  },
  {
   "cell_type": "code",
   "execution_count": 8,
   "metadata": {},
   "outputs": [
    {
     "data": {
      "text/plain": [
       "[1, 2, 3, 4, 5, 6]"
      ]
     },
     "execution_count": 8,
     "metadata": {},
     "output_type": "execute_result"
    }
   ],
   "source": [
    "items"
   ]
  },
  {
   "cell_type": "code",
   "execution_count": 19,
   "metadata": {},
   "outputs": [],
   "source": [
    "second_list = ['summer', 'autumn', 'winter']"
   ]
  },
  {
   "cell_type": "code",
   "execution_count": 20,
   "metadata": {},
   "outputs": [
    {
     "data": {
      "text/plain": [
       "3"
      ]
     },
     "execution_count": 20,
     "metadata": {},
     "output_type": "execute_result"
    }
   ],
   "source": [
    "len(second_list)"
   ]
  },
  {
   "cell_type": "code",
   "execution_count": 21,
   "metadata": {},
   "outputs": [
    {
     "data": {
      "text/plain": [
       "'summer'"
      ]
     },
     "execution_count": 21,
     "metadata": {},
     "output_type": "execute_result"
    }
   ],
   "source": [
    "second_list[0]"
   ]
  },
  {
   "cell_type": "code",
   "execution_count": 22,
   "metadata": {},
   "outputs": [],
   "source": [
    "second_list.append('spring')"
   ]
  },
  {
   "cell_type": "code",
   "execution_count": 23,
   "metadata": {},
   "outputs": [
    {
     "data": {
      "text/plain": [
       "['summer', 'autumn', 'winter', 'spring']"
      ]
     },
     "execution_count": 23,
     "metadata": {},
     "output_type": "execute_result"
    }
   ],
   "source": [
    "second_list"
   ]
  },
  {
   "cell_type": "code",
   "execution_count": 26,
   "metadata": {},
   "outputs": [
    {
     "name": "stdout",
     "output_type": "stream",
     "text": [
      "summer\n",
      "autumn\n",
      "winter\n",
      "spring\n"
     ]
    }
   ],
   "source": [
    "# iteration over a list\n",
    "\n",
    "for i in second_list:\n",
    "    print(i)"
   ]
  },
  {
   "cell_type": "code",
   "execution_count": 34,
   "metadata": {},
   "outputs": [
    {
     "data": {
      "text/plain": [
       "[0, 1, 2, 3]"
      ]
     },
     "execution_count": 34,
     "metadata": {},
     "output_type": "execute_result"
    }
   ],
   "source": [
    "list(range(len(second_list)))"
   ]
  },
  {
   "cell_type": "code",
   "execution_count": 35,
   "metadata": {},
   "outputs": [
    {
     "data": {
      "text/plain": [
       "4"
      ]
     },
     "execution_count": 35,
     "metadata": {},
     "output_type": "execute_result"
    }
   ],
   "source": [
    "len(second_list)"
   ]
  },
  {
   "cell_type": "code",
   "execution_count": 37,
   "metadata": {},
   "outputs": [
    {
     "data": {
      "text/plain": [
       "range(0, 4)"
      ]
     },
     "execution_count": 37,
     "metadata": {},
     "output_type": "execute_result"
    }
   ],
   "source": [
    "range(len(second_list))"
   ]
  },
  {
   "cell_type": "code",
   "execution_count": 38,
   "metadata": {},
   "outputs": [
    {
     "data": {
      "text/plain": [
       "[0, 1, 2, 3]"
      ]
     },
     "execution_count": 38,
     "metadata": {},
     "output_type": "execute_result"
    }
   ],
   "source": [
    "list(range(len(second_list)))"
   ]
  },
  {
   "cell_type": "markdown",
   "metadata": {},
   "source": [
    "#### list sorting"
   ]
  },
  {
   "cell_type": "code",
   "execution_count": 40,
   "metadata": {},
   "outputs": [],
   "source": [
    "second_list.sort()"
   ]
  },
  {
   "cell_type": "code",
   "execution_count": 45,
   "metadata": {},
   "outputs": [
    {
     "data": {
      "text/plain": [
       "['autumn', 'spring', 'summer', 'winter']"
      ]
     },
     "execution_count": 45,
     "metadata": {},
     "output_type": "execute_result"
    }
   ],
   "source": [
    "second_list"
   ]
  },
  {
   "cell_type": "code",
   "execution_count": 76,
   "metadata": {},
   "outputs": [
    {
     "name": "stdout",
     "output_type": "stream",
     "text": [
      "Sorted Array in Ascending Order:\n",
      "[-2, 1, 1, 4, 7, 9, 10]\n"
     ]
    }
   ],
   "source": [
    "def quicksort(arr):\n",
    "    if len(arr) <= 1:\n",
    "        return arr\n",
    "    else:\n",
    "        pivot = arr[0]\n",
    "        left = [x for x in arr[1:] if x < pivot]\n",
    "        right = [x for x in arr[1:] if x >= pivot]\n",
    "        return quicksort(left) + [pivot] + quicksort(right)\n",
    "\n",
    "# example\n",
    "arr = [1, 7, 4, 1, 10, 9, -2]\n",
    "sorted_arr = quicksort(arr)\n",
    "print(\"Sorted Array in Ascending Order:\")\n",
    "print(sorted_arr)\n"
   ]
  },
  {
   "cell_type": "markdown",
   "metadata": {},
   "source": [
    "#### list slicing"
   ]
  },
  {
   "cell_type": "code",
   "execution_count": 46,
   "metadata": {},
   "outputs": [],
   "source": [
    "dwarfs = [\"Doc\", \"Bashful\", \" Grumpy\", \"Sneezy\", \"Happy\", \"Sleepy\", \"Dopey\"]"
   ]
  },
  {
   "cell_type": "code",
   "execution_count": 48,
   "metadata": {},
   "outputs": [
    {
     "data": {
      "text/plain": [
       "['Doc', 'Bashful', ' Grumpy', 'Sneezy', 'Happy', 'Sleepy', 'Dopey']"
      ]
     },
     "execution_count": 48,
     "metadata": {},
     "output_type": "execute_result"
    }
   ],
   "source": [
    "dwarfs"
   ]
  },
  {
   "cell_type": "code",
   "execution_count": 50,
   "metadata": {},
   "outputs": [
    {
     "data": {
      "text/plain": [
       "['Bashful', ' Grumpy', 'Sneezy', 'Happy']"
      ]
     },
     "execution_count": 50,
     "metadata": {},
     "output_type": "execute_result"
    }
   ],
   "source": [
    "dwarfs[1:5] "
   ]
  },
  {
   "cell_type": "code",
   "execution_count": 52,
   "metadata": {},
   "outputs": [
    {
     "data": {
      "text/plain": [
       "['Doc', 'Bashful', ' Grumpy', 'Sneezy', 'Happy']"
      ]
     },
     "execution_count": 52,
     "metadata": {},
     "output_type": "execute_result"
    }
   ],
   "source": [
    "dwarfs[:5]"
   ]
  },
  {
   "cell_type": "code",
   "execution_count": 54,
   "metadata": {},
   "outputs": [
    {
     "data": {
      "text/plain": [
       "['Sleepy', 'Dopey']"
      ]
     },
     "execution_count": 54,
     "metadata": {},
     "output_type": "execute_result"
    }
   ],
   "source": [
    "dwarfs[5:]"
   ]
  },
  {
   "cell_type": "code",
   "execution_count": 56,
   "metadata": {},
   "outputs": [
    {
     "data": {
      "text/plain": [
       "['Doc', 'Bashful', ' Grumpy', 'Sneezy', 'Happy', 'Sleepy', 'Dopey']"
      ]
     },
     "execution_count": 56,
     "metadata": {},
     "output_type": "execute_result"
    }
   ],
   "source": [
    "dwarfs[:5] + dwarfs[5:]"
   ]
  },
  {
   "cell_type": "code",
   "execution_count": 58,
   "metadata": {},
   "outputs": [
    {
     "data": {
      "text/plain": [
       "['Doc', 'Bashful', ' Grumpy', 'Sneezy', 'Happy', 'Sleepy', 'Dopey']"
      ]
     },
     "execution_count": 58,
     "metadata": {},
     "output_type": "execute_result"
    }
   ],
   "source": [
    "dwarfs[:]"
   ]
  },
  {
   "cell_type": "code",
   "execution_count": 60,
   "metadata": {},
   "outputs": [
    {
     "data": {
      "text/plain": [
       "['Bashful', 'Sneezy']"
      ]
     },
     "execution_count": 60,
     "metadata": {},
     "output_type": "execute_result"
    }
   ],
   "source": [
    "dwarfs[1:5:2]"
   ]
  },
  {
   "cell_type": "code",
   "execution_count": 62,
   "metadata": {},
   "outputs": [
    {
     "data": {
      "text/plain": [
       "'Dopey'"
      ]
     },
     "execution_count": 62,
     "metadata": {},
     "output_type": "execute_result"
    }
   ],
   "source": [
    "dwarfs[-1]"
   ]
  },
  {
   "cell_type": "code",
   "execution_count": 64,
   "metadata": {},
   "outputs": [
    {
     "data": {
      "text/plain": [
       "[' Grumpy', 'Sneezy', 'Happy', 'Sleepy']"
      ]
     },
     "execution_count": 64,
     "metadata": {},
     "output_type": "execute_result"
    }
   ],
   "source": [
    "dwarfs[-5:-1]"
   ]
  },
  {
   "cell_type": "code",
   "execution_count": 68,
   "metadata": {},
   "outputs": [
    {
     "data": {
      "text/plain": [
       "['Dopey', 'Sleepy', 'Happy', 'Sneezy']"
      ]
     },
     "execution_count": 68,
     "metadata": {},
     "output_type": "execute_result"
    }
   ],
   "source": [
    "dwarfs[-1:-5:-1]"
   ]
  },
  {
   "cell_type": "code",
   "execution_count": 70,
   "metadata": {},
   "outputs": [
    {
     "data": {
      "text/plain": [
       "[]"
      ]
     },
     "execution_count": 70,
     "metadata": {},
     "output_type": "execute_result"
    }
   ],
   "source": [
    "dwarfs[-1:-5] # remember that without -1 given an empty list"
   ]
  },
  {
   "cell_type": "code",
   "execution_count": 73,
   "metadata": {},
   "outputs": [
    {
     "data": {
      "text/plain": [
       "['Dopey', 'Sleepy', 'Happy', 'Sneezy', ' Grumpy', 'Bashful', 'Doc']"
      ]
     },
     "execution_count": 73,
     "metadata": {},
     "output_type": "execute_result"
    }
   ],
   "source": [
    "dwarfs[::-1] # gives back all the elements in reversed order"
   ]
  },
  {
   "cell_type": "markdown",
   "metadata": {},
   "source": [
    "#### exercise\n",
    "\n",
    "given a list, reverse the left with the right part\n",
    "(calculate the middle index, and then use slicing to reverse)"
   ]
  },
  {
   "cell_type": "code",
   "execution_count": 23,
   "metadata": {},
   "outputs": [],
   "source": [
    "try_list = [4,6,8,9,5,12,4,45,6,7,7,7,54,3,2,5,44,5,5,555]"
   ]
  },
  {
   "cell_type": "code",
   "execution_count": 24,
   "metadata": {},
   "outputs": [],
   "source": [
    "def reverse_right_left(list):\n",
    "    middle_index = len(list) // 2\n",
    "    \n",
    "    right_part = list[middle_index:]\n",
    "    left_part = list[:middle_index]\n",
    "    \n",
    "    result = right_part + left_part\n",
    "    \n",
    "    return result"
   ]
  },
  {
   "cell_type": "code",
   "execution_count": 25,
   "metadata": {},
   "outputs": [
    {
     "data": {
      "text/plain": [
       "[7, 7, 54, 3, 2, 5, 44, 5, 5, 555, 4, 6, 8, 9, 5, 12, 4, 45, 6, 7]"
      ]
     },
     "execution_count": 25,
     "metadata": {},
     "output_type": "execute_result"
    }
   ],
   "source": [
    "reverse_right_left(try_list)"
   ]
  },
  {
   "cell_type": "code",
   "execution_count": 26,
   "metadata": {},
   "outputs": [],
   "source": [
    "A = [[1, 2, 3], [4, 5, 6], [7, 8, 9]] # list of lists"
   ]
  },
  {
   "cell_type": "code",
   "execution_count": 27,
   "metadata": {},
   "outputs": [
    {
     "data": {
      "text/plain": [
       "[[1, 2, 3], [4, 5, 6], [7, 8, 9]]"
      ]
     },
     "execution_count": 27,
     "metadata": {},
     "output_type": "execute_result"
    }
   ],
   "source": [
    "A"
   ]
  },
  {
   "cell_type": "code",
   "execution_count": 28,
   "metadata": {},
   "outputs": [
    {
     "data": {
      "text/plain": [
       "[4, 5, 6]"
      ]
     },
     "execution_count": 28,
     "metadata": {},
     "output_type": "execute_result"
    }
   ],
   "source": [
    "A[1]"
   ]
  },
  {
   "cell_type": "code",
   "execution_count": 29,
   "metadata": {},
   "outputs": [
    {
     "data": {
      "text/plain": [
       "6"
      ]
     },
     "execution_count": 29,
     "metadata": {},
     "output_type": "execute_result"
    }
   ],
   "source": [
    "A[1][2]\n",
    "\n",
    "# first element of the list that is the middle list, and then \n",
    "# take the second elemend of that middle list that is 6"
   ]
  },
  {
   "cell_type": "code",
   "execution_count": 30,
   "metadata": {},
   "outputs": [
    {
     "data": {
      "text/plain": [
       "3"
      ]
     },
     "execution_count": 30,
     "metadata": {},
     "output_type": "execute_result"
    }
   ],
   "source": [
    "A[0][-1]"
   ]
  },
  {
   "cell_type": "code",
   "execution_count": 31,
   "metadata": {},
   "outputs": [],
   "source": [
    "# we want to get the last item for every list in the A list\n",
    "\n",
    "last_column = []\n",
    "\n",
    "for item in A:\n",
    "    last_column.append(item[-1])"
   ]
  },
  {
   "cell_type": "code",
   "execution_count": 32,
   "metadata": {},
   "outputs": [
    {
     "data": {
      "text/plain": [
       "[3, 6, 9]"
      ]
     },
     "execution_count": 32,
     "metadata": {},
     "output_type": "execute_result"
    }
   ],
   "source": [
    "last_column"
   ]
  },
  {
   "cell_type": "code",
   "execution_count": 33,
   "metadata": {},
   "outputs": [
    {
     "name": "stdout",
     "output_type": "stream",
     "text": [
      "[3, 6, 9]\n"
     ]
    }
   ],
   "source": [
    "# the same works with list comprehension\n",
    "\n",
    "last_column = [row[-1] for row in A]\n",
    "print(last_column)"
   ]
  },
  {
   "cell_type": "markdown",
   "metadata": {},
   "source": [
    "### practise 1"
   ]
  },
  {
   "cell_type": "markdown",
   "metadata": {},
   "source": [
    "#### exercise 1\n",
    "\n",
    "Given a list in input, returns the list of uniques values"
   ]
  },
  {
   "cell_type": "code",
   "execution_count": 46,
   "metadata": {},
   "outputs": [],
   "source": [
    "def unique_values(my_list):\n",
    "    values = []\n",
    "    for item in my_list:\n",
    "        if item not in values:\n",
    "            values.append(item)\n",
    "\n",
    "    return values"
   ]
  },
  {
   "cell_type": "code",
   "execution_count": 47,
   "metadata": {},
   "outputs": [
    {
     "data": {
      "text/plain": [
       "[4, 6, 8, 9, 5, 12, 45, 7, 54, 3, 2, 44, 555]"
      ]
     },
     "execution_count": 47,
     "metadata": {},
     "output_type": "execute_result"
    }
   ],
   "source": [
    "unique_values(try_list)"
   ]
  },
  {
   "cell_type": "code",
   "execution_count": 36,
   "metadata": {},
   "outputs": [],
   "source": [
    "def unique_values_by_set(my_list):\n",
    "    my_set = set(my_list)\n",
    "    return list(my_set)"
   ]
  },
  {
   "cell_type": "code",
   "execution_count": 37,
   "metadata": {},
   "outputs": [
    {
     "data": {
      "text/plain": [
       "[2, 3, 4, 5, 6, 7, 8, 9, 555, 12, 45, 44, 54]"
      ]
     },
     "execution_count": 37,
     "metadata": {},
     "output_type": "execute_result"
    }
   ],
   "source": [
    "unique_values_by_set(try_list)"
   ]
  },
  {
   "cell_type": "markdown",
   "metadata": {},
   "source": [
    "#### dataset"
   ]
  },
  {
   "cell_type": "code",
   "execution_count": 38,
   "metadata": {},
   "outputs": [],
   "source": [
    "# pull request from a datset added via upload files into the git-hub repository\n",
    "\n",
    "with open(\"supermarket.csv\", newline=\"\") as f:\n",
    "    reader = csv.reader(f, delimiter=\",\")\n",
    "    records = list(reader)"
   ]
  },
  {
   "cell_type": "code",
   "execution_count": 39,
   "metadata": {},
   "outputs": [
    {
     "data": {
      "text/plain": [
       "['750-67-8428',\n",
       " 'Alex',\n",
       " 'Yangon',\n",
       " 'Member',\n",
       " 'Female',\n",
       " 'Health and beauty',\n",
       " '74.69',\n",
       " '7',\n",
       " '26.1415',\n",
       " '548.9715',\n",
       " '1/5/2019',\n",
       " '1:08:00 PM',\n",
       " 'Ewallet',\n",
       " '522.83',\n",
       " '4.761904762',\n",
       " '26.1415',\n",
       " '9.1']"
      ]
     },
     "execution_count": 39,
     "metadata": {},
     "output_type": "execute_result"
    }
   ],
   "source": [
    "records[1]"
   ]
  },
  {
   "cell_type": "code",
   "execution_count": 40,
   "metadata": {},
   "outputs": [
    {
     "data": {
      "text/plain": [
       "[['ï»¿Invoice ID',\n",
       "  'Branch',\n",
       "  'City',\n",
       "  'Customer type',\n",
       "  'Gender',\n",
       "  'Product line',\n",
       "  'Unit price',\n",
       "  'Quantity',\n",
       "  'Tax 5%',\n",
       "  'Sales',\n",
       "  'Date',\n",
       "  'Time',\n",
       "  'Payment',\n",
       "  'cogs',\n",
       "  'gross margin percentage',\n",
       "  'gross income',\n",
       "  'Rating']]"
      ]
     },
     "execution_count": 40,
     "metadata": {},
     "output_type": "execute_result"
    }
   ],
   "source": [
    "records[:1]"
   ]
  },
  {
   "cell_type": "code",
   "execution_count": 41,
   "metadata": {},
   "outputs": [],
   "source": [
    "records = records[1:]"
   ]
  },
  {
   "cell_type": "code",
   "execution_count": 42,
   "metadata": {},
   "outputs": [],
   "source": [
    "# create a list with the unique names of branches (content of the 2nd column)\n",
    "\n",
    "branches = [row[1] for row in records]"
   ]
  },
  {
   "cell_type": "code",
   "execution_count": 43,
   "metadata": {},
   "outputs": [
    {
     "data": {
      "text/plain": [
       "['Alex',\n",
       " 'Giza',\n",
       " 'Alex',\n",
       " 'Alex',\n",
       " 'Alex',\n",
       " 'Giza',\n",
       " 'Alex',\n",
       " 'Giza',\n",
       " 'Alex',\n",
       " 'Cairo',\n",
       " 'Cairo',\n",
       " 'Cairo',\n",
       " 'Alex',\n",
       " 'Alex',\n",
       " 'Alex',\n",
       " 'Cairo',\n",
       " 'Alex',\n",
       " 'Alex',\n",
       " 'Alex',\n",
       " 'Cairo',\n",
       " 'Giza',\n",
       " 'Cairo',\n",
       " 'Cairo',\n",
       " 'Alex',\n",
       " 'Alex',\n",
       " 'Alex',\n",
       " 'Cairo',\n",
       " 'Alex',\n",
       " 'Cairo',\n",
       " 'Alex',\n",
       " 'Cairo',\n",
       " 'Cairo',\n",
       " 'Cairo',\n",
       " 'Alex',\n",
       " 'Giza',\n",
       " 'Giza',\n",
       " 'Alex',\n",
       " 'Alex',\n",
       " 'Giza',\n",
       " 'Cairo',\n",
       " 'Cairo',\n",
       " 'Giza',\n",
       " 'Cairo',\n",
       " 'Giza',\n",
       " 'Giza',\n",
       " 'Cairo',\n",
       " 'Cairo',\n",
       " 'Cairo',\n",
       " 'Cairo',\n",
       " 'Giza',\n",
       " 'Giza',\n",
       " 'Alex',\n",
       " 'Cairo',\n",
       " 'Giza',\n",
       " 'Cairo',\n",
       " 'Giza',\n",
       " 'Alex',\n",
       " 'Alex',\n",
       " 'Alex',\n",
       " 'Giza',\n",
       " 'Giza',\n",
       " 'Giza',\n",
       " 'Cairo',\n",
       " 'Alex',\n",
       " 'Cairo',\n",
       " 'Alex',\n",
       " 'Giza',\n",
       " 'Cairo',\n",
       " 'Alex',\n",
       " 'Alex',\n",
       " 'Giza',\n",
       " 'Giza',\n",
       " 'Cairo',\n",
       " 'Giza',\n",
       " 'Alex',\n",
       " 'Giza',\n",
       " 'Giza',\n",
       " 'Alex',\n",
       " 'Giza',\n",
       " 'Giza',\n",
       " 'Giza',\n",
       " 'Cairo',\n",
       " 'Giza',\n",
       " 'Giza',\n",
       " 'Giza',\n",
       " 'Giza',\n",
       " 'Giza',\n",
       " 'Alex',\n",
       " 'Alex',\n",
       " 'Cairo',\n",
       " 'Giza',\n",
       " 'Giza',\n",
       " 'Alex',\n",
       " 'Cairo',\n",
       " 'Giza',\n",
       " 'Alex',\n",
       " 'Cairo',\n",
       " 'Giza',\n",
       " 'Alex',\n",
       " 'Cairo',\n",
       " 'Giza',\n",
       " 'Giza',\n",
       " 'Giza',\n",
       " 'Alex',\n",
       " 'Cairo',\n",
       " 'Alex',\n",
       " 'Giza',\n",
       " 'Alex',\n",
       " 'Giza',\n",
       " 'Giza',\n",
       " 'Cairo',\n",
       " 'Giza',\n",
       " 'Cairo',\n",
       " 'Alex',\n",
       " 'Giza',\n",
       " 'Giza',\n",
       " 'Cairo',\n",
       " 'Cairo',\n",
       " 'Alex',\n",
       " 'Cairo',\n",
       " 'Alex',\n",
       " 'Giza',\n",
       " 'Cairo',\n",
       " 'Giza',\n",
       " 'Cairo',\n",
       " 'Alex',\n",
       " 'Alex',\n",
       " 'Giza',\n",
       " 'Giza',\n",
       " 'Cairo',\n",
       " 'Cairo',\n",
       " 'Alex',\n",
       " 'Cairo',\n",
       " 'Cairo',\n",
       " 'Giza',\n",
       " 'Giza',\n",
       " 'Alex',\n",
       " 'Alex',\n",
       " 'Cairo',\n",
       " 'Alex',\n",
       " 'Giza',\n",
       " 'Giza',\n",
       " 'Giza',\n",
       " 'Giza',\n",
       " 'Alex',\n",
       " 'Giza',\n",
       " 'Alex',\n",
       " 'Giza',\n",
       " 'Cairo',\n",
       " 'Alex',\n",
       " 'Cairo',\n",
       " 'Giza',\n",
       " 'Alex',\n",
       " 'Giza',\n",
       " 'Giza',\n",
       " 'Alex',\n",
       " 'Cairo',\n",
       " 'Cairo',\n",
       " 'Cairo',\n",
       " 'Cairo',\n",
       " 'Giza',\n",
       " 'Alex',\n",
       " 'Alex',\n",
       " 'Giza',\n",
       " 'Cairo',\n",
       " 'Cairo',\n",
       " 'Giza',\n",
       " 'Alex',\n",
       " 'Alex',\n",
       " 'Alex',\n",
       " 'Alex',\n",
       " 'Cairo',\n",
       " 'Giza',\n",
       " 'Cairo',\n",
       " 'Cairo',\n",
       " 'Alex',\n",
       " 'Alex',\n",
       " 'Giza',\n",
       " 'Alex',\n",
       " 'Giza',\n",
       " 'Giza',\n",
       " 'Giza',\n",
       " 'Alex',\n",
       " 'Giza',\n",
       " 'Alex',\n",
       " 'Cairo',\n",
       " 'Cairo',\n",
       " 'Cairo',\n",
       " 'Alex',\n",
       " 'Giza',\n",
       " 'Cairo',\n",
       " 'Cairo',\n",
       " 'Giza',\n",
       " 'Cairo',\n",
       " 'Alex',\n",
       " 'Giza',\n",
       " 'Giza',\n",
       " 'Alex',\n",
       " 'Giza',\n",
       " 'Giza',\n",
       " 'Giza',\n",
       " 'Cairo',\n",
       " 'Giza',\n",
       " 'Cairo',\n",
       " 'Cairo',\n",
       " 'Alex',\n",
       " 'Giza',\n",
       " 'Giza',\n",
       " 'Cairo',\n",
       " 'Cairo',\n",
       " 'Alex',\n",
       " 'Giza',\n",
       " 'Cairo',\n",
       " 'Cairo',\n",
       " 'Cairo',\n",
       " 'Alex',\n",
       " 'Cairo',\n",
       " 'Alex',\n",
       " 'Cairo',\n",
       " 'Cairo',\n",
       " 'Cairo',\n",
       " 'Cairo',\n",
       " 'Giza',\n",
       " 'Giza',\n",
       " 'Alex',\n",
       " 'Giza',\n",
       " 'Cairo',\n",
       " 'Giza',\n",
       " 'Cairo',\n",
       " 'Alex',\n",
       " 'Cairo',\n",
       " 'Cairo',\n",
       " 'Cairo',\n",
       " 'Cairo',\n",
       " 'Alex',\n",
       " 'Alex',\n",
       " 'Giza',\n",
       " 'Giza',\n",
       " 'Cairo',\n",
       " 'Alex',\n",
       " 'Alex',\n",
       " 'Alex',\n",
       " 'Giza',\n",
       " 'Alex',\n",
       " 'Cairo',\n",
       " 'Alex',\n",
       " 'Cairo',\n",
       " 'Alex',\n",
       " 'Alex',\n",
       " 'Cairo',\n",
       " 'Cairo',\n",
       " 'Giza',\n",
       " 'Giza',\n",
       " 'Alex',\n",
       " 'Alex',\n",
       " 'Cairo',\n",
       " 'Alex',\n",
       " 'Alex',\n",
       " 'Alex',\n",
       " 'Giza',\n",
       " 'Alex',\n",
       " 'Giza',\n",
       " 'Cairo',\n",
       " 'Alex',\n",
       " 'Cairo',\n",
       " 'Alex',\n",
       " 'Giza',\n",
       " 'Cairo',\n",
       " 'Alex',\n",
       " 'Alex',\n",
       " 'Cairo',\n",
       " 'Giza',\n",
       " 'Alex',\n",
       " 'Alex',\n",
       " 'Cairo',\n",
       " 'Cairo',\n",
       " 'Giza',\n",
       " 'Giza',\n",
       " 'Giza',\n",
       " 'Alex',\n",
       " 'Alex',\n",
       " 'Giza',\n",
       " 'Alex',\n",
       " 'Alex',\n",
       " 'Alex',\n",
       " 'Cairo',\n",
       " 'Giza',\n",
       " 'Giza',\n",
       " 'Cairo',\n",
       " 'Alex',\n",
       " 'Cairo',\n",
       " 'Giza',\n",
       " 'Alex',\n",
       " 'Alex',\n",
       " 'Cairo',\n",
       " 'Giza',\n",
       " 'Giza',\n",
       " 'Alex',\n",
       " 'Alex',\n",
       " 'Giza',\n",
       " 'Giza',\n",
       " 'Cairo',\n",
       " 'Giza',\n",
       " 'Alex',\n",
       " 'Cairo',\n",
       " 'Alex',\n",
       " 'Alex',\n",
       " 'Alex',\n",
       " 'Alex',\n",
       " 'Alex',\n",
       " 'Cairo',\n",
       " 'Giza',\n",
       " 'Alex',\n",
       " 'Alex',\n",
       " 'Giza',\n",
       " 'Giza',\n",
       " 'Giza',\n",
       " 'Giza',\n",
       " 'Giza',\n",
       " 'Giza',\n",
       " 'Giza',\n",
       " 'Giza',\n",
       " 'Alex',\n",
       " 'Alex',\n",
       " 'Alex',\n",
       " 'Cairo',\n",
       " 'Alex',\n",
       " 'Giza',\n",
       " 'Cairo',\n",
       " 'Alex',\n",
       " 'Cairo',\n",
       " 'Alex',\n",
       " 'Alex',\n",
       " 'Alex',\n",
       " 'Giza',\n",
       " 'Alex',\n",
       " 'Alex',\n",
       " 'Cairo',\n",
       " 'Giza',\n",
       " 'Cairo',\n",
       " 'Cairo',\n",
       " 'Cairo',\n",
       " 'Cairo',\n",
       " 'Giza',\n",
       " 'Alex',\n",
       " 'Alex',\n",
       " 'Alex',\n",
       " 'Giza',\n",
       " 'Alex',\n",
       " 'Cairo',\n",
       " 'Giza',\n",
       " 'Alex',\n",
       " 'Cairo',\n",
       " 'Cairo',\n",
       " 'Giza',\n",
       " 'Cairo',\n",
       " 'Giza',\n",
       " 'Giza',\n",
       " 'Cairo',\n",
       " 'Cairo',\n",
       " 'Alex',\n",
       " 'Giza',\n",
       " 'Giza',\n",
       " 'Alex',\n",
       " 'Giza',\n",
       " 'Giza',\n",
       " 'Giza',\n",
       " 'Alex',\n",
       " 'Giza',\n",
       " 'Alex',\n",
       " 'Cairo',\n",
       " 'Cairo',\n",
       " 'Giza',\n",
       " 'Giza',\n",
       " 'Alex',\n",
       " 'Alex',\n",
       " 'Cairo',\n",
       " 'Giza',\n",
       " 'Giza',\n",
       " 'Cairo',\n",
       " 'Alex',\n",
       " 'Giza',\n",
       " 'Cairo',\n",
       " 'Giza',\n",
       " 'Alex',\n",
       " 'Cairo',\n",
       " 'Giza',\n",
       " 'Alex',\n",
       " 'Giza',\n",
       " 'Cairo',\n",
       " 'Giza',\n",
       " 'Cairo',\n",
       " 'Alex',\n",
       " 'Alex',\n",
       " 'Alex',\n",
       " 'Alex',\n",
       " 'Alex',\n",
       " 'Cairo',\n",
       " 'Cairo',\n",
       " 'Cairo',\n",
       " 'Giza',\n",
       " 'Giza',\n",
       " 'Giza',\n",
       " 'Cairo',\n",
       " 'Giza',\n",
       " 'Alex',\n",
       " 'Alex',\n",
       " 'Cairo',\n",
       " 'Alex',\n",
       " 'Giza',\n",
       " 'Cairo',\n",
       " 'Cairo',\n",
       " 'Alex',\n",
       " 'Alex',\n",
       " 'Alex',\n",
       " 'Cairo',\n",
       " 'Giza',\n",
       " 'Giza',\n",
       " 'Cairo',\n",
       " 'Alex',\n",
       " 'Giza',\n",
       " 'Giza',\n",
       " 'Giza',\n",
       " 'Cairo',\n",
       " 'Giza',\n",
       " 'Cairo',\n",
       " 'Alex',\n",
       " 'Cairo',\n",
       " 'Cairo',\n",
       " 'Alex',\n",
       " 'Cairo',\n",
       " 'Giza',\n",
       " 'Alex',\n",
       " 'Cairo',\n",
       " 'Cairo',\n",
       " 'Giza',\n",
       " 'Giza',\n",
       " 'Alex',\n",
       " 'Giza',\n",
       " 'Giza',\n",
       " 'Giza',\n",
       " 'Cairo',\n",
       " 'Alex',\n",
       " 'Giza',\n",
       " 'Alex',\n",
       " 'Cairo',\n",
       " 'Giza',\n",
       " 'Giza',\n",
       " 'Cairo',\n",
       " 'Cairo',\n",
       " 'Cairo',\n",
       " 'Cairo',\n",
       " 'Alex',\n",
       " 'Alex',\n",
       " 'Alex',\n",
       " 'Cairo',\n",
       " 'Cairo',\n",
       " 'Cairo',\n",
       " 'Giza',\n",
       " 'Giza',\n",
       " 'Giza',\n",
       " 'Cairo',\n",
       " 'Giza',\n",
       " 'Giza',\n",
       " 'Alex',\n",
       " 'Giza',\n",
       " 'Giza',\n",
       " 'Cairo',\n",
       " 'Giza',\n",
       " 'Giza',\n",
       " 'Giza',\n",
       " 'Alex',\n",
       " 'Alex',\n",
       " 'Cairo',\n",
       " 'Alex',\n",
       " 'Alex',\n",
       " 'Alex',\n",
       " 'Giza',\n",
       " 'Cairo',\n",
       " 'Alex',\n",
       " 'Giza',\n",
       " 'Giza',\n",
       " 'Alex',\n",
       " 'Cairo',\n",
       " 'Giza',\n",
       " 'Cairo',\n",
       " 'Cairo',\n",
       " 'Alex',\n",
       " 'Giza',\n",
       " 'Cairo',\n",
       " 'Cairo',\n",
       " 'Alex',\n",
       " 'Cairo',\n",
       " 'Giza',\n",
       " 'Cairo',\n",
       " 'Cairo',\n",
       " 'Giza',\n",
       " 'Giza',\n",
       " 'Cairo',\n",
       " 'Alex',\n",
       " 'Cairo',\n",
       " 'Giza',\n",
       " 'Giza',\n",
       " 'Cairo',\n",
       " 'Cairo',\n",
       " 'Alex',\n",
       " 'Cairo',\n",
       " 'Cairo',\n",
       " 'Cairo',\n",
       " 'Giza',\n",
       " 'Cairo',\n",
       " 'Alex',\n",
       " 'Alex',\n",
       " 'Alex',\n",
       " 'Giza',\n",
       " 'Giza',\n",
       " 'Cairo',\n",
       " 'Giza',\n",
       " 'Alex',\n",
       " 'Giza',\n",
       " 'Cairo',\n",
       " 'Giza',\n",
       " 'Alex',\n",
       " 'Giza',\n",
       " 'Alex',\n",
       " 'Alex',\n",
       " 'Cairo',\n",
       " 'Cairo',\n",
       " 'Cairo',\n",
       " 'Alex',\n",
       " 'Alex',\n",
       " 'Alex',\n",
       " 'Cairo',\n",
       " 'Giza',\n",
       " 'Alex',\n",
       " 'Giza',\n",
       " 'Cairo',\n",
       " 'Alex',\n",
       " 'Alex',\n",
       " 'Giza',\n",
       " 'Alex',\n",
       " 'Giza',\n",
       " 'Cairo',\n",
       " 'Giza',\n",
       " 'Cairo',\n",
       " 'Cairo',\n",
       " 'Alex',\n",
       " 'Alex',\n",
       " 'Cairo',\n",
       " 'Alex',\n",
       " 'Cairo',\n",
       " 'Cairo',\n",
       " 'Cairo',\n",
       " 'Giza',\n",
       " 'Alex',\n",
       " 'Cairo',\n",
       " 'Cairo',\n",
       " 'Giza',\n",
       " 'Alex',\n",
       " 'Alex',\n",
       " 'Cairo',\n",
       " 'Giza',\n",
       " 'Cairo',\n",
       " 'Alex',\n",
       " 'Cairo',\n",
       " 'Alex',\n",
       " 'Giza',\n",
       " 'Alex',\n",
       " 'Cairo',\n",
       " 'Giza',\n",
       " 'Cairo',\n",
       " 'Cairo',\n",
       " 'Alex',\n",
       " 'Cairo',\n",
       " 'Alex',\n",
       " 'Cairo',\n",
       " 'Cairo',\n",
       " 'Giza',\n",
       " 'Alex',\n",
       " 'Cairo',\n",
       " 'Giza',\n",
       " 'Alex',\n",
       " 'Giza',\n",
       " 'Cairo',\n",
       " 'Cairo',\n",
       " 'Alex',\n",
       " 'Alex',\n",
       " 'Alex',\n",
       " 'Giza',\n",
       " 'Alex',\n",
       " 'Giza',\n",
       " 'Giza',\n",
       " 'Alex',\n",
       " 'Alex',\n",
       " 'Cairo',\n",
       " 'Cairo',\n",
       " 'Alex',\n",
       " 'Giza',\n",
       " 'Giza',\n",
       " 'Alex',\n",
       " 'Giza',\n",
       " 'Giza',\n",
       " 'Giza',\n",
       " 'Cairo',\n",
       " 'Giza',\n",
       " 'Cairo',\n",
       " 'Alex',\n",
       " 'Giza',\n",
       " 'Alex',\n",
       " 'Cairo',\n",
       " 'Alex',\n",
       " 'Giza',\n",
       " 'Cairo',\n",
       " 'Giza',\n",
       " 'Alex',\n",
       " 'Alex',\n",
       " 'Cairo',\n",
       " 'Giza',\n",
       " 'Alex',\n",
       " 'Giza',\n",
       " 'Alex',\n",
       " 'Alex',\n",
       " 'Cairo',\n",
       " 'Cairo',\n",
       " 'Cairo',\n",
       " 'Cairo',\n",
       " 'Alex',\n",
       " 'Cairo',\n",
       " 'Alex',\n",
       " 'Alex',\n",
       " 'Alex',\n",
       " 'Alex',\n",
       " 'Alex',\n",
       " 'Cairo',\n",
       " 'Cairo',\n",
       " 'Cairo',\n",
       " 'Alex',\n",
       " 'Giza',\n",
       " 'Cairo',\n",
       " 'Cairo',\n",
       " 'Cairo',\n",
       " 'Giza',\n",
       " 'Cairo',\n",
       " 'Giza',\n",
       " 'Giza',\n",
       " 'Alex',\n",
       " 'Giza',\n",
       " 'Cairo',\n",
       " 'Giza',\n",
       " 'Giza',\n",
       " 'Cairo',\n",
       " 'Cairo',\n",
       " 'Alex',\n",
       " 'Cairo',\n",
       " 'Cairo',\n",
       " 'Alex',\n",
       " 'Giza',\n",
       " 'Alex',\n",
       " 'Alex',\n",
       " 'Alex',\n",
       " 'Cairo',\n",
       " 'Giza',\n",
       " 'Cairo',\n",
       " 'Giza',\n",
       " 'Giza',\n",
       " 'Alex',\n",
       " 'Cairo',\n",
       " 'Cairo',\n",
       " 'Giza',\n",
       " 'Cairo',\n",
       " 'Alex',\n",
       " 'Cairo',\n",
       " 'Cairo',\n",
       " 'Giza',\n",
       " 'Alex',\n",
       " 'Cairo',\n",
       " 'Cairo',\n",
       " 'Alex',\n",
       " 'Giza',\n",
       " 'Alex',\n",
       " 'Cairo',\n",
       " 'Cairo',\n",
       " 'Giza',\n",
       " 'Alex',\n",
       " 'Cairo',\n",
       " 'Cairo',\n",
       " 'Cairo',\n",
       " 'Alex',\n",
       " 'Giza',\n",
       " 'Alex',\n",
       " 'Giza',\n",
       " 'Giza',\n",
       " 'Alex',\n",
       " 'Giza',\n",
       " 'Giza',\n",
       " 'Alex',\n",
       " 'Alex',\n",
       " 'Cairo',\n",
       " 'Alex',\n",
       " 'Giza',\n",
       " 'Giza',\n",
       " 'Cairo',\n",
       " 'Cairo',\n",
       " 'Cairo',\n",
       " 'Cairo',\n",
       " 'Cairo',\n",
       " 'Cairo',\n",
       " 'Giza',\n",
       " 'Giza',\n",
       " 'Alex',\n",
       " 'Alex',\n",
       " 'Giza',\n",
       " 'Giza',\n",
       " 'Giza',\n",
       " 'Giza',\n",
       " 'Alex',\n",
       " 'Alex',\n",
       " 'Alex',\n",
       " 'Alex',\n",
       " 'Cairo',\n",
       " 'Cairo',\n",
       " 'Giza',\n",
       " 'Cairo',\n",
       " 'Giza',\n",
       " 'Cairo',\n",
       " 'Giza',\n",
       " 'Giza',\n",
       " 'Cairo',\n",
       " 'Giza',\n",
       " 'Cairo',\n",
       " 'Alex',\n",
       " 'Alex',\n",
       " 'Alex',\n",
       " 'Cairo',\n",
       " 'Cairo',\n",
       " 'Giza',\n",
       " 'Giza',\n",
       " 'Giza',\n",
       " 'Cairo',\n",
       " 'Alex',\n",
       " 'Giza',\n",
       " 'Giza',\n",
       " 'Alex',\n",
       " 'Alex',\n",
       " 'Giza',\n",
       " 'Giza',\n",
       " 'Cairo',\n",
       " 'Giza',\n",
       " 'Cairo',\n",
       " 'Giza',\n",
       " 'Cairo',\n",
       " 'Alex',\n",
       " 'Alex',\n",
       " 'Cairo',\n",
       " 'Giza',\n",
       " 'Alex',\n",
       " 'Cairo',\n",
       " 'Alex',\n",
       " 'Alex',\n",
       " 'Alex',\n",
       " 'Cairo',\n",
       " 'Cairo',\n",
       " 'Alex',\n",
       " 'Alex',\n",
       " 'Alex',\n",
       " 'Cairo',\n",
       " 'Giza',\n",
       " 'Cairo',\n",
       " 'Cairo',\n",
       " 'Alex',\n",
       " 'Cairo',\n",
       " 'Giza',\n",
       " 'Giza',\n",
       " 'Giza',\n",
       " 'Giza',\n",
       " 'Cairo',\n",
       " 'Giza',\n",
       " 'Cairo',\n",
       " 'Giza',\n",
       " 'Cairo',\n",
       " 'Giza',\n",
       " 'Alex',\n",
       " 'Alex',\n",
       " 'Giza',\n",
       " 'Giza',\n",
       " 'Alex',\n",
       " 'Giza',\n",
       " 'Giza',\n",
       " 'Giza',\n",
       " 'Alex',\n",
       " 'Alex',\n",
       " 'Giza',\n",
       " 'Cairo',\n",
       " 'Alex',\n",
       " 'Alex',\n",
       " 'Cairo',\n",
       " 'Giza',\n",
       " 'Alex',\n",
       " 'Cairo',\n",
       " 'Giza',\n",
       " 'Cairo',\n",
       " 'Giza',\n",
       " 'Giza',\n",
       " 'Alex',\n",
       " 'Cairo',\n",
       " 'Alex',\n",
       " 'Alex',\n",
       " 'Alex',\n",
       " 'Cairo',\n",
       " 'Giza',\n",
       " 'Cairo',\n",
       " 'Alex',\n",
       " 'Giza',\n",
       " 'Alex',\n",
       " 'Alex',\n",
       " 'Cairo',\n",
       " 'Giza',\n",
       " 'Alex',\n",
       " 'Cairo',\n",
       " 'Cairo',\n",
       " 'Cairo',\n",
       " 'Alex',\n",
       " 'Giza',\n",
       " 'Alex',\n",
       " 'Cairo',\n",
       " 'Alex',\n",
       " 'Cairo',\n",
       " 'Alex',\n",
       " 'Giza',\n",
       " 'Alex',\n",
       " 'Alex',\n",
       " 'Cairo',\n",
       " 'Cairo',\n",
       " 'Alex',\n",
       " 'Cairo',\n",
       " 'Alex',\n",
       " 'Alex',\n",
       " 'Cairo',\n",
       " 'Giza',\n",
       " 'Giza',\n",
       " 'Alex',\n",
       " 'Cairo',\n",
       " 'Alex',\n",
       " 'Giza',\n",
       " 'Alex',\n",
       " 'Alex',\n",
       " 'Alex',\n",
       " 'Giza',\n",
       " 'Giza',\n",
       " 'Alex',\n",
       " 'Alex',\n",
       " 'Alex',\n",
       " 'Giza',\n",
       " 'Cairo',\n",
       " 'Alex',\n",
       " 'Cairo',\n",
       " 'Cairo',\n",
       " 'Alex',\n",
       " 'Cairo',\n",
       " 'Alex',\n",
       " 'Giza',\n",
       " 'Alex',\n",
       " 'Cairo',\n",
       " 'Cairo',\n",
       " 'Alex',\n",
       " 'Giza',\n",
       " 'Cairo',\n",
       " 'Giza',\n",
       " 'Giza',\n",
       " 'Alex',\n",
       " 'Alex',\n",
       " 'Giza',\n",
       " 'Cairo',\n",
       " 'Alex',\n",
       " 'Alex',\n",
       " 'Giza',\n",
       " 'Giza',\n",
       " 'Cairo',\n",
       " 'Alex',\n",
       " 'Cairo',\n",
       " 'Cairo',\n",
       " 'Giza',\n",
       " 'Cairo',\n",
       " 'Alex',\n",
       " 'Alex',\n",
       " 'Alex',\n",
       " 'Alex',\n",
       " 'Alex',\n",
       " 'Giza',\n",
       " 'Alex',\n",
       " 'Giza',\n",
       " 'Cairo',\n",
       " 'Giza',\n",
       " 'Cairo',\n",
       " 'Cairo',\n",
       " 'Cairo',\n",
       " 'Giza',\n",
       " 'Giza',\n",
       " 'Giza',\n",
       " 'Alex',\n",
       " 'Giza',\n",
       " 'Cairo',\n",
       " 'Alex',\n",
       " 'Alex',\n",
       " 'Giza',\n",
       " 'Giza',\n",
       " 'Giza',\n",
       " 'Cairo',\n",
       " 'Alex',\n",
       " 'Cairo',\n",
       " 'Cairo',\n",
       " 'Giza',\n",
       " 'Alex',\n",
       " 'Alex',\n",
       " 'Alex',\n",
       " 'Giza',\n",
       " 'Giza',\n",
       " 'Alex',\n",
       " 'Cairo',\n",
       " 'Cairo',\n",
       " 'Giza',\n",
       " 'Cairo',\n",
       " 'Giza',\n",
       " 'Giza',\n",
       " 'Giza',\n",
       " 'Cairo',\n",
       " 'Cairo',\n",
       " 'Alex',\n",
       " 'Cairo',\n",
       " 'Cairo',\n",
       " 'Cairo',\n",
       " 'Giza',\n",
       " 'Alex',\n",
       " 'Giza',\n",
       " 'Cairo',\n",
       " 'Giza',\n",
       " 'Giza',\n",
       " 'Alex',\n",
       " 'Alex',\n",
       " 'Giza',\n",
       " 'Alex',\n",
       " 'Giza',\n",
       " 'Alex',\n",
       " 'Alex',\n",
       " 'Alex',\n",
       " 'Alex',\n",
       " 'Giza',\n",
       " 'Cairo',\n",
       " 'Giza',\n",
       " 'Cairo',\n",
       " 'Cairo',\n",
       " 'Cairo',\n",
       " 'Cairo',\n",
       " 'Giza',\n",
       " 'Cairo',\n",
       " 'Alex',\n",
       " 'Giza',\n",
       " 'Cairo',\n",
       " 'Giza',\n",
       " 'Alex',\n",
       " 'Giza',\n",
       " 'Alex',\n",
       " 'Alex',\n",
       " 'Giza',\n",
       " 'Cairo',\n",
       " 'Cairo',\n",
       " 'Alex',\n",
       " 'Alex',\n",
       " 'Alex',\n",
       " 'Cairo',\n",
       " 'Cairo',\n",
       " 'Cairo',\n",
       " 'Cairo',\n",
       " 'Alex',\n",
       " 'Giza',\n",
       " 'Cairo',\n",
       " 'Alex',\n",
       " 'Cairo',\n",
       " 'Cairo',\n",
       " 'Cairo',\n",
       " 'Giza',\n",
       " 'Alex',\n",
       " 'Alex',\n",
       " 'Giza',\n",
       " 'Giza',\n",
       " 'Cairo',\n",
       " 'Cairo',\n",
       " 'Cairo',\n",
       " 'Giza',\n",
       " 'Cairo',\n",
       " 'Alex',\n",
       " 'Cairo',\n",
       " 'Alex',\n",
       " 'Cairo',\n",
       " 'Giza',\n",
       " 'Giza',\n",
       " 'Cairo',\n",
       " 'Alex',\n",
       " 'Alex',\n",
       " 'Alex']"
      ]
     },
     "execution_count": 43,
     "metadata": {},
     "output_type": "execute_result"
    }
   ],
   "source": [
    "branches"
   ]
  },
  {
   "cell_type": "code",
   "execution_count": 48,
   "metadata": {},
   "outputs": [
    {
     "data": {
      "text/plain": [
       "['Alex', 'Cairo', 'Giza']"
      ]
     },
     "execution_count": 48,
     "metadata": {},
     "output_type": "execute_result"
    }
   ],
   "source": [
    "unique_values_by_set(branches)"
   ]
  },
  {
   "cell_type": "code",
   "execution_count": 51,
   "metadata": {},
   "outputs": [],
   "source": [
    "sales = [row[9] for row in records]"
   ]
  }
 ],
 "metadata": {
  "kernelspec": {
   "display_name": "Python 3",
   "language": "python",
   "name": "python3"
  },
  "language_info": {
   "codemirror_mode": {
    "name": "ipython",
    "version": 3
   },
   "file_extension": ".py",
   "mimetype": "text/x-python",
   "name": "python",
   "nbconvert_exporter": "python",
   "pygments_lexer": "ipython3",
   "version": "3.12.1"
  }
 },
 "nbformat": 4,
 "nbformat_minor": 2
}
