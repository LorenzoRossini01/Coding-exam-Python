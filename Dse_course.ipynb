{
 "cells": [
  {
   "cell_type": "markdown",
   "metadata": {},
   "source": [
    "# Dse Python course"
   ]
  },
  {
   "cell_type": "markdown",
   "metadata": {},
   "source": [
    "### lesson 1"
   ]
  },
  {
   "cell_type": "code",
   "execution_count": 4,
   "metadata": {},
   "outputs": [],
   "source": [
    "import sys # type: ignore\n",
    "import math # type: ignore\n",
    "import datetime # type: ignore\n",
    "import pandas as pd # type: ignore\n",
    "import numpy as np # type: ignore\n",
    "import csv # type: ignore"
   ]
  },
  {
   "cell_type": "markdown",
   "metadata": {},
   "source": [
    "#### return the result of an exam according to the result of three molues"
   ]
  },
  {
   "cell_type": "code",
   "execution_count": 2,
   "metadata": {},
   "outputs": [],
   "source": [
    "m1_grade = 18\n",
    "m2_grade = 20\n",
    "m3_grande = 30"
   ]
  },
  {
   "cell_type": "code",
   "execution_count": 3,
   "metadata": {},
   "outputs": [
    {
     "name": "stdout",
     "output_type": "stream",
     "text": [
      "exam passed\n",
      "22.666666666666668\n"
     ]
    }
   ],
   "source": [
    "grade = (m1_grade + m2_grade + m3_grande)/3\n",
    "\n",
    "if grade >= 18:\n",
    "    print('exam passed')\n",
    "else:\n",
    "    print('exam failed')\n",
    "\n",
    "print(grade)"
   ]
  },
  {
   "cell_type": "code",
   "execution_count": 4,
   "metadata": {},
   "outputs": [
    {
     "name": "stdout",
     "output_type": "stream",
     "text": [
      "exam passed\n",
      "24.5\n"
     ]
    }
   ],
   "source": [
    "# consider that moduled can be weighted\n",
    "\n",
    "m1_weigth = 0.5\n",
    "m2_weigth = 0.5\n",
    "m3_weigth = 1\n",
    "\n",
    "grade = (m1_grade*m1_weigth + m2_grade*m2_weigth + m3_grande*m3_weigth)/(m1_weigth + m2_weigth + m3_weigth)\n",
    "\n",
    "if grade >= 18:\n",
    "    print('exam passed')\n",
    "else:\n",
    "    print('exam failed')\n",
    "\n",
    "print(grade)"
   ]
  },
  {
   "cell_type": "code",
   "execution_count": 5,
   "metadata": {},
   "outputs": [
    {
     "name": "stdout",
     "output_type": "stream",
     "text": [
      "24.5\n"
     ]
    }
   ],
   "source": [
    "# consider to manage courses with a dynamic number of modules\n",
    "\n",
    "grades = [18, 20, 30] # list\n",
    "weights = [0.25, 0.25, 0.5]\n",
    "\n",
    "# iterate over the grades and the weights lists\n",
    "\n",
    "sum_values = 0 # used just to store step by step the results\n",
    "for i, num in enumerate(grades): # enumerate consider each element of the list one by one\n",
    "    sum_values += num * weights[i] # same syntax as : sum_values = sum_values + num*weights[i]\n",
    "    \n",
    "grade = sum_values/sum(weights)\n",
    "\n",
    "print(grade)\n"
   ]
  },
  {
   "cell_type": "markdown",
   "metadata": {},
   "source": [
    "#### enumerate function"
   ]
  },
  {
   "cell_type": "code",
   "execution_count": 6,
   "metadata": {},
   "outputs": [
    {
     "name": "stdout",
     "output_type": "stream",
     "text": [
      "Return type: <class 'enumerate'>\n",
      "[(0, 'eat'), (1, 'sleep'), (2, 'repeat')]\n",
      "[(0, 'g'), (1, 'e'), (2, 'e'), (3, 'k')]\n",
      "[(2, 'g'), (3, 'e'), (4, 'e'), (5, 'k')]\n"
     ]
    }
   ],
   "source": [
    "l1 = [\"eat\", \"sleep\", \"repeat\"]\n",
    "s1 = \"geek\"\n",
    "\n",
    "# creating enumerate objects\n",
    "obj1 = enumerate(l1)\n",
    "obj2 = enumerate(s1)\n",
    "\n",
    "print(\"Return type:\", type(obj1))\n",
    "print(list(enumerate(l1)))\n",
    "\n",
    "print(list(enumerate(s1)))\n",
    "\n",
    "# changing start index to 2 from 0\n",
    "print(list(enumerate(s1, 2)))"
   ]
  },
  {
   "cell_type": "code",
   "execution_count": 7,
   "metadata": {},
   "outputs": [
    {
     "name": "stdout",
     "output_type": "stream",
     "text": [
      "(0, 'eat')\n",
      "(1, 'sleep')\n",
      "(2, 'repeat')\n",
      "100 eat\n",
      "101 sleep\n",
      "102 repeat\n",
      "0\n",
      "eat\n",
      "1\n",
      "sleep\n",
      "2\n",
      "repeat\n"
     ]
    }
   ],
   "source": [
    "l1 = [\"eat\", \"sleep\", \"repeat\"]\n",
    "\n",
    "# printing the tuples in object directly\n",
    "for ele in enumerate(l1):\n",
    "    print(ele)\n",
    "\n",
    "# changing index and printing separately\n",
    "for count, ele in enumerate(l1, 100):\n",
    "    print(count, ele)\n",
    "\n",
    "# getting desired output from tuple\n",
    "for count, ele in enumerate(l1):\n",
    "    print(count)\n",
    "    print(ele)\n"
   ]
  },
  {
   "cell_type": "markdown",
   "metadata": {},
   "source": [
    "### lesson 2"
   ]
  },
  {
   "cell_type": "markdown",
   "metadata": {},
   "source": [
    "#### zip function"
   ]
  },
  {
   "cell_type": "code",
   "execution_count": 8,
   "metadata": {},
   "outputs": [
    {
     "data": {
      "text/plain": [
       "24.5"
      ]
     },
     "execution_count": 8,
     "metadata": {},
     "output_type": "execute_result"
    }
   ],
   "source": [
    "# zip function: zip() function takes iterables (can be zero or more), aggregates them in a tuple, and returns it.\n",
    "\n",
    "grades = [18, 20, 30]\n",
    "weights = [0.25, 0.25, 0.5]\n",
    "\n",
    "sum_modules = 0\n",
    "sum_modules = sum([a*b for a,b in zip(grades, weights)])\n",
    "sum_modules"
   ]
  },
  {
   "cell_type": "code",
   "execution_count": 9,
   "metadata": {},
   "outputs": [
    {
     "name": "stdout",
     "output_type": "stream",
     "text": [
      "[('Java', 14), ('Python', 3), ('JavaScript', 6)]\n"
     ]
    }
   ],
   "source": [
    "languages = ['Java', 'Python', 'JavaScript']\n",
    "versions = [14, 3, 6]\n",
    "\n",
    "result = zip(languages, versions)\n",
    "print(list(result))"
   ]
  },
  {
   "cell_type": "markdown",
   "metadata": {},
   "source": [
    "#### string manipulation"
   ]
  },
  {
   "cell_type": "code",
   "execution_count": 10,
   "metadata": {},
   "outputs": [],
   "source": [
    "s = 'testoLungo'"
   ]
  },
  {
   "cell_type": "code",
   "execution_count": 11,
   "metadata": {},
   "outputs": [
    {
     "data": {
      "text/plain": [
       "'Testolungo'"
      ]
     },
     "execution_count": 11,
     "metadata": {},
     "output_type": "execute_result"
    }
   ],
   "source": [
    "s.capitalize() # convert only the first letter of the string"
   ]
  },
  {
   "cell_type": "code",
   "execution_count": 12,
   "metadata": {},
   "outputs": [
    {
     "data": {
      "text/plain": [
       "'testolungo'"
      ]
     },
     "execution_count": 12,
     "metadata": {},
     "output_type": "execute_result"
    }
   ],
   "source": [
    "s.lower()"
   ]
  },
  {
   "cell_type": "code",
   "execution_count": 13,
   "metadata": {},
   "outputs": [
    {
     "data": {
      "text/plain": [
       "'TESTOLUNGO'"
      ]
     },
     "execution_count": 13,
     "metadata": {},
     "output_type": "execute_result"
    }
   ],
   "source": [
    "s.upper()"
   ]
  },
  {
   "cell_type": "code",
   "execution_count": 14,
   "metadata": {},
   "outputs": [
    {
     "data": {
      "text/plain": [
       "'est'"
      ]
     },
     "execution_count": 14,
     "metadata": {},
     "output_type": "execute_result"
    }
   ],
   "source": [
    "s[1:4]"
   ]
  },
  {
   "cell_type": "code",
   "execution_count": 15,
   "metadata": {},
   "outputs": [
    {
     "data": {
      "text/plain": [
       "'t'"
      ]
     },
     "execution_count": 15,
     "metadata": {},
     "output_type": "execute_result"
    }
   ],
   "source": [
    "s[0]"
   ]
  },
  {
   "cell_type": "code",
   "execution_count": 16,
   "metadata": {},
   "outputs": [
    {
     "data": {
      "text/plain": [
       "'estoLungo'"
      ]
     },
     "execution_count": 16,
     "metadata": {},
     "output_type": "execute_result"
    }
   ],
   "source": [
    "s[1:]"
   ]
  },
  {
   "cell_type": "code",
   "execution_count": 17,
   "metadata": {},
   "outputs": [
    {
     "data": {
      "text/plain": [
       "'o'"
      ]
     },
     "execution_count": 17,
     "metadata": {},
     "output_type": "execute_result"
    }
   ],
   "source": [
    "s[-1]"
   ]
  },
  {
   "cell_type": "code",
   "execution_count": 18,
   "metadata": {},
   "outputs": [
    {
     "data": {
      "text/plain": [
       "'t'"
      ]
     },
     "execution_count": 18,
     "metadata": {},
     "output_type": "execute_result"
    }
   ],
   "source": [
    "s[:1]"
   ]
  },
  {
   "cell_type": "code",
   "execution_count": 19,
   "metadata": {},
   "outputs": [
    {
     "data": {
      "text/plain": [
       "'testoLung'"
      ]
     },
     "execution_count": 19,
     "metadata": {},
     "output_type": "execute_result"
    }
   ],
   "source": [
    "s[:-1]"
   ]
  },
  {
   "cell_type": "code",
   "execution_count": 20,
   "metadata": {},
   "outputs": [
    {
     "data": {
      "text/plain": [
       "'etLno'"
      ]
     },
     "execution_count": 20,
     "metadata": {},
     "output_type": "execute_result"
    }
   ],
   "source": [
    "# we can express three elements: [start:stop:step]\n",
    "\n",
    "s[1::2]"
   ]
  },
  {
   "cell_type": "code",
   "execution_count": 21,
   "metadata": {},
   "outputs": [
    {
     "data": {
      "text/plain": [
       "'nL'"
      ]
     },
     "execution_count": 21,
     "metadata": {},
     "output_type": "execute_result"
    }
   ],
   "source": [
    "s[-3:-6:-2]"
   ]
  },
  {
   "cell_type": "code",
   "execution_count": 22,
   "metadata": {},
   "outputs": [
    {
     "data": {
      "text/plain": [
       "'EON'"
      ]
     },
     "execution_count": 22,
     "metadata": {},
     "output_type": "execute_result"
    }
   ],
   "source": [
    "s[1::3].upper()"
   ]
  },
  {
   "cell_type": "code",
   "execution_count": 23,
   "metadata": {},
   "outputs": [
    {
     "data": {
      "text/plain": [
       "''"
      ]
     },
     "execution_count": 23,
     "metadata": {},
     "output_type": "execute_result"
    }
   ],
   "source": [
    "s[-1:-4] # i get nothing because the -1 position is the starting point"
   ]
  },
  {
   "cell_type": "code",
   "execution_count": 24,
   "metadata": {},
   "outputs": [
    {
     "data": {
      "text/plain": [
       "'o'"
      ]
     },
     "execution_count": 24,
     "metadata": {},
     "output_type": "execute_result"
    }
   ],
   "source": [
    "s[-1]"
   ]
  },
  {
   "cell_type": "code",
   "execution_count": 25,
   "metadata": {},
   "outputs": [
    {
     "data": {
      "text/plain": [
       "'ung'"
      ]
     },
     "execution_count": 25,
     "metadata": {},
     "output_type": "execute_result"
    }
   ],
   "source": [
    "s[-4:-1]"
   ]
  },
  {
   "cell_type": "markdown",
   "metadata": {},
   "source": [
    "#### getting the last 5 letters "
   ]
  },
  {
   "cell_type": "code",
   "execution_count": 26,
   "metadata": {},
   "outputs": [
    {
     "data": {
      "text/plain": [
       "'Lungo'"
      ]
     },
     "execution_count": 26,
     "metadata": {},
     "output_type": "execute_result"
    }
   ],
   "source": [
    "s[-5:]"
   ]
  },
  {
   "cell_type": "code",
   "execution_count": 27,
   "metadata": {},
   "outputs": [
    {
     "data": {
      "text/plain": [
       "'Lungo'"
      ]
     },
     "execution_count": 27,
     "metadata": {},
     "output_type": "execute_result"
    }
   ],
   "source": [
    "s[5:]"
   ]
  },
  {
   "cell_type": "markdown",
   "metadata": {},
   "source": [
    "#### getting the first 5 letters"
   ]
  },
  {
   "cell_type": "code",
   "execution_count": 28,
   "metadata": {},
   "outputs": [
    {
     "data": {
      "text/plain": [
       "'testo'"
      ]
     },
     "execution_count": 28,
     "metadata": {},
     "output_type": "execute_result"
    }
   ],
   "source": [
    "s[:5]"
   ]
  },
  {
   "cell_type": "code",
   "execution_count": 29,
   "metadata": {},
   "outputs": [
    {
     "data": {
      "text/plain": [
       "'testo'"
      ]
     },
     "execution_count": 29,
     "metadata": {},
     "output_type": "execute_result"
    }
   ],
   "source": [
    "s[:-5]"
   ]
  },
  {
   "cell_type": "code",
   "execution_count": 30,
   "metadata": {},
   "outputs": [
    {
     "data": {
      "text/plain": [
       "'ognuLotset'"
      ]
     },
     "execution_count": 30,
     "metadata": {},
     "output_type": "execute_result"
    }
   ],
   "source": [
    "s[-1::-1] # reversed word"
   ]
  },
  {
   "cell_type": "markdown",
   "metadata": {},
   "source": [
    "#### given the string in input, retunr true or false is it is palindrom"
   ]
  },
  {
   "cell_type": "code",
   "execution_count": 31,
   "metadata": {},
   "outputs": [
    {
     "name": "stdout",
     "output_type": "stream",
     "text": [
      "your word is not palindrom\n"
     ]
    }
   ],
   "source": [
    "word = input('insert your word')\n",
    "if word.lower() == word[-1::-1]:\n",
    "    print('your word is palindrom')\n",
    "else:\n",
    "    print('your word is not palindrom')"
   ]
  },
  {
   "cell_type": "markdown",
   "metadata": {},
   "source": [
    "#### functions"
   ]
  },
  {
   "cell_type": "code",
   "execution_count": 32,
   "metadata": {},
   "outputs": [
    {
     "data": {
      "text/plain": [
       "False"
      ]
     },
     "execution_count": 32,
     "metadata": {},
     "output_type": "execute_result"
    }
   ],
   "source": [
    "# since something palindorm is a sort of function, i define a targeted  specification\n",
    "\n",
    "word = input('insert your word')\n",
    "\n",
    "def check_pal(word):\n",
    "    word = word.lower()\n",
    "    if word == word[-1::-1]:\n",
    "        return True\n",
    "    else:\n",
    "        return False\n",
    "    \n",
    "check_pal(word)"
   ]
  },
  {
   "cell_type": "code",
   "execution_count": 33,
   "metadata": {},
   "outputs": [
    {
     "name": "stdout",
     "output_type": "stream",
     "text": [
      "the word 'hjhkjh' is not palindrom\n"
     ]
    }
   ],
   "source": [
    "word = input('insert your word')\n",
    "\n",
    "def check_pal(word):\n",
    "    word = word.lower()\n",
    "    if word == word[-1::-1]:\n",
    "        print(f\"the word '{word}' is palindrom\")\n",
    "    else:\n",
    "        print(f\"the word '{word}' is not palindrom\")\n",
    "    \n",
    "check_pal(word)"
   ]
  },
  {
   "cell_type": "markdown",
   "metadata": {},
   "source": [
    "#### while loop"
   ]
  },
  {
   "cell_type": "code",
   "execution_count": 34,
   "metadata": {},
   "outputs": [
    {
     "data": {
      "text/plain": [
       "False"
      ]
     },
     "execution_count": 34,
     "metadata": {},
     "output_type": "execute_result"
    }
   ],
   "source": [
    "# we want to check if a word is palindrom without the slicing function\n",
    "\n",
    "word = input('insert your word')\n",
    "word = word.lower()\n",
    "\n",
    "def check_pal_iteration(word):\n",
    "    left = 0 # index of the first element\n",
    "    right = len(word)-1 # index of the last element\n",
    "    is_pal = True\n",
    "    \n",
    "    while left < right:\n",
    "        if word[left] != word[right]:\n",
    "            is_pal = False\n",
    "            break # stop execution of the while\n",
    "        \n",
    "        left += 1 # updating loop\n",
    "        right -= 1 # updating loop\n",
    "    \n",
    "    return is_pal\n",
    "\n",
    "check_pal_iteration(word)"
   ]
  },
  {
   "cell_type": "markdown",
   "metadata": {},
   "source": [
    "### exercises on loops"
   ]
  },
  {
   "cell_type": "markdown",
   "metadata": {},
   "source": [
    "#### exercise 1\n",
    "\n",
    "Print first 10 natural numbers using while\n"
   ]
  },
  {
   "cell_type": "code",
   "execution_count": 41,
   "metadata": {},
   "outputs": [
    {
     "name": "stdout",
     "output_type": "stream",
     "text": [
      "1\n",
      "2\n",
      "3\n",
      "4\n",
      "5\n",
      "6\n",
      "7\n",
      "8\n",
      "9\n",
      "10\n"
     ]
    }
   ],
   "source": [
    "i=1\n",
    "\n",
    "while i < 11: # can be written also as: while i <= 10\n",
    "    print(i)\n",
    "    i += 1"
   ]
  },
  {
   "cell_type": "markdown",
   "metadata": {},
   "source": [
    "#### exercise 2\n",
    "\n",
    "Calculate sum of all numbers from 1 to a given number\n"
   ]
  },
  {
   "cell_type": "code",
   "execution_count": 75,
   "metadata": {},
   "outputs": [
    {
     "name": "stdout",
     "output_type": "stream",
     "text": [
      "359976\n"
     ]
    }
   ],
   "source": [
    "num = int(input('enter a number'))\n",
    "i = 0\n",
    "sum = 0\n",
    "\n",
    "while i <= num-1:\n",
    "    next_num = sum + 1\n",
    "    sum = i + next_num\n",
    "    i += 1\n",
    "\n",
    "print(sum)"
   ]
  },
  {
   "cell_type": "code",
   "execution_count": 76,
   "metadata": {},
   "outputs": [
    {
     "name": "stdout",
     "output_type": "stream",
     "text": [
      "359976\n"
     ]
    }
   ],
   "source": [
    "sum = 0\n",
    "num = int(input('enter number'))\n",
    "\n",
    "for i in range(1,num+1,1):\n",
    "    sum += i\n",
    "    \n",
    "print(sum)"
   ]
  },
  {
   "cell_type": "markdown",
   "metadata": {},
   "source": [
    "#### exercise 3\n",
    "\n",
    "Print multiplication table of a given number"
   ]
  },
  {
   "cell_type": "code",
   "execution_count": 109,
   "metadata": {},
   "outputs": [
    {
     "name": "stdout",
     "output_type": "stream",
     "text": [
      "2\n",
      "4\n",
      "6\n",
      "8\n",
      "10\n",
      "12\n",
      "14\n",
      "16\n",
      "18\n",
      "20\n"
     ]
    }
   ],
   "source": [
    "num = int(input('enter number'))\n",
    "\n",
    "i = 1\n",
    "\n",
    "while i <= 10:\n",
    "    mult = num * i\n",
    "    i += 1\n",
    "    \n",
    "    print(mult)\n",
    "    "
   ]
  },
  {
   "cell_type": "code",
   "execution_count": null,
   "metadata": {},
   "outputs": [],
   "source": [
    "num = int(input('enter number'))\n",
    "\n",
    "for i in range (1, 11):\n",
    "    mult = num * i\n",
    "    \n",
    "    print(mult)"
   ]
  },
  {
   "cell_type": "markdown",
   "metadata": {},
   "source": [
    "#### exercise 4\n",
    "\n",
    "Write a Python program to display only those numbers from a list that satisfy the following conditions\n",
    "\n",
    "The number must be divisible by five\n",
    "If the number is greater than 150, then skip it and move to the following number\n",
    "If the number is greater than 500, then stop the loop"
   ]
  },
  {
   "cell_type": "code",
   "execution_count": 122,
   "metadata": {},
   "outputs": [
    {
     "name": "stdout",
     "output_type": "stream",
     "text": [
      "75\n",
      "150\n",
      "145\n"
     ]
    }
   ],
   "source": [
    "numbers = [12, 75, 150, 180, 145, 525, 50]\n",
    "\n",
    "for i in numbers:\n",
    "    if i > 500:\n",
    "        break\n",
    "    if i%5 == 0:\n",
    "        if i <= 150:\n",
    "            \n",
    "            print(i)"
   ]
  },
  {
   "cell_type": "code",
   "execution_count": 123,
   "metadata": {},
   "outputs": [
    {
     "name": "stdout",
     "output_type": "stream",
     "text": [
      "75\n",
      "150\n",
      "145\n"
     ]
    }
   ],
   "source": [
    "numbers = [12, 75, 150, 180, 145, 525, 50]\n",
    "\n",
    "for item in numbers:\n",
    "    if item > 500:\n",
    "        break\n",
    "    elif item > 150:\n",
    "        continue\n",
    "    elif item % 5 == 0:\n",
    "        print(item)"
   ]
  },
  {
   "cell_type": "markdown",
   "metadata": {},
   "source": [
    "#### exercise 5\n",
    "\n",
    "Count the total number of digits in a number"
   ]
  },
  {
   "cell_type": "code",
   "execution_count": 128,
   "metadata": {},
   "outputs": [
    {
     "name": "stdout",
     "output_type": "stream",
     "text": [
      "4\n"
     ]
    }
   ],
   "source": [
    "7\n",
    "num = int(input('enter number'))\n",
    "\n",
    "count = 0\n",
    "while num != 0:\n",
    "    num = num // 10\n",
    "\n",
    "    count = count + 1\n",
    "print(count)"
   ]
  },
  {
   "cell_type": "markdown",
   "metadata": {},
   "source": [
    "#### exercise 6\n",
    "\n",
    "Find the factorial of a given number"
   ]
  },
  {
   "cell_type": "code",
   "execution_count": 152,
   "metadata": {},
   "outputs": [
    {
     "name": "stdout",
     "output_type": "stream",
     "text": [
      "362880\n"
     ]
    }
   ],
   "source": [
    "num = int(input('enter number'))\n",
    "\n",
    "i = num - 1\n",
    "mult = num * i\n",
    "\n",
    "while i > 1:\n",
    "    i -= 1\n",
    "    mult = mult * i\n",
    "\n",
    "print(mult)"
   ]
  },
  {
   "cell_type": "code",
   "execution_count": 153,
   "metadata": {},
   "outputs": [
    {
     "name": "stdout",
     "output_type": "stream",
     "text": [
      "362880\n"
     ]
    }
   ],
   "source": [
    "num = int(input('enter number'))\n",
    "\n",
    "fact = 1\n",
    "\n",
    "for i in range(1, num+1):\n",
    "    fact = fact * i\n",
    "\n",
    "print(fact)"
   ]
  },
  {
   "cell_type": "markdown",
   "metadata": {},
   "source": [
    "#### exercise 7\n",
    "\n",
    "Calculate the cube of all numbers from 1 to a given number"
   ]
  },
  {
   "cell_type": "code",
   "execution_count": 171,
   "metadata": {},
   "outputs": [
    {
     "name": "stdout",
     "output_type": "stream",
     "text": [
      "1\n",
      "8\n",
      "27\n",
      "64\n",
      "125\n",
      "216\n"
     ]
    }
   ],
   "source": [
    "num = int(input('enter number'))\n",
    "\n",
    "for i in range (1, num+1):\n",
    "    cube = i*i*i\n",
    "    i += 1\n",
    "    print(cube)"
   ]
  },
  {
   "cell_type": "markdown",
   "metadata": {},
   "source": [
    "#### exercize 8\n",
    "\n",
    "Write a program to create a function that takes two arguments, name and age, and print their value."
   ]
  },
  {
   "cell_type": "code",
   "execution_count": 8,
   "metadata": {},
   "outputs": [
    {
     "name": "stdout",
     "output_type": "stream",
     "text": [
      "paolo 5\n"
     ]
    }
   ],
   "source": [
    "def print_fun(name,age):\n",
    "\n",
    "    print(name, age)\n",
    "    \n",
    "print_fun('paolo', 5)"
   ]
  },
  {
   "cell_type": "markdown",
   "metadata": {},
   "source": [
    "#### exercise 9\n",
    "\n",
    "Write a program to create function func1() to accept a variable length of arguments and print their value."
   ]
  },
  {
   "cell_type": "code",
   "execution_count": 9,
   "metadata": {},
   "outputs": [
    {
     "name": "stdout",
     "output_type": "stream",
     "text": [
      "2\n",
      "4\n",
      "5\n",
      "2\n",
      "2\n",
      "4\n",
      "5\n"
     ]
    }
   ],
   "source": [
    "# to create functions that take n number of positional arguments we use *args as a parameter\n",
    "# Using this, we can pass any number of arguments to this function. Internally all these values are represented in the form of a tuple\n",
    "\n",
    "def func1(*args):\n",
    "    for i in args:\n",
    "        print(i)\n",
    "        \n",
    "func1(2,4,5,2,2,4,5)"
   ]
  },
  {
   "cell_type": "markdown",
   "metadata": {},
   "source": [
    "#### exercise 10\n",
    "\n",
    "Write a program to create function calculation() such that it can accept two variables and calculate addition and subtraction. Also, it must return both addition and subtraction in a single return call."
   ]
  },
  {
   "cell_type": "code",
   "execution_count": 12,
   "metadata": {},
   "outputs": [
    {
     "name": "stdout",
     "output_type": "stream",
     "text": [
      "10 -4\n"
     ]
    }
   ],
   "source": [
    "val_1 = int(input())\n",
    "val_2 = int(input())\n",
    "\n",
    "def calculation(val_1 = 0, val_2 = 0):\n",
    "    sum = val_1 + val_2\n",
    "    dif = val_1 - val_2\n",
    "    \n",
    "    print(sum, dif)\n",
    "    \n",
    "calculation(val_1, val_2)"
   ]
  },
  {
   "cell_type": "markdown",
   "metadata": {},
   "source": [
    "### lecture 3"
   ]
  },
  {
   "cell_type": "markdown",
   "metadata": {},
   "source": [
    "#### lists"
   ]
  },
  {
   "cell_type": "code",
   "execution_count": 2,
   "metadata": {},
   "outputs": [],
   "source": [
    "items = [1,2,3,4,5,6]"
   ]
  },
  {
   "cell_type": "code",
   "execution_count": 4,
   "metadata": {},
   "outputs": [
    {
     "data": {
      "text/plain": [
       "[1, 2, 3, 4, 5, 6]"
      ]
     },
     "execution_count": 4,
     "metadata": {},
     "output_type": "execute_result"
    }
   ],
   "source": [
    "items"
   ]
  },
  {
   "cell_type": "code",
   "execution_count": 6,
   "metadata": {},
   "outputs": [],
   "source": [
    "# alternative syntax\n",
    "\n",
    "items = list((1,2,3,4,5,6))"
   ]
  },
  {
   "cell_type": "code",
   "execution_count": 8,
   "metadata": {},
   "outputs": [
    {
     "data": {
      "text/plain": [
       "[1, 2, 3, 4, 5, 6]"
      ]
     },
     "execution_count": 8,
     "metadata": {},
     "output_type": "execute_result"
    }
   ],
   "source": [
    "items"
   ]
  },
  {
   "cell_type": "code",
   "execution_count": 19,
   "metadata": {},
   "outputs": [],
   "source": [
    "second_list = ['summer', 'autumn', 'winter']"
   ]
  },
  {
   "cell_type": "code",
   "execution_count": 20,
   "metadata": {},
   "outputs": [
    {
     "data": {
      "text/plain": [
       "3"
      ]
     },
     "execution_count": 20,
     "metadata": {},
     "output_type": "execute_result"
    }
   ],
   "source": [
    "len(second_list)"
   ]
  },
  {
   "cell_type": "code",
   "execution_count": 21,
   "metadata": {},
   "outputs": [
    {
     "data": {
      "text/plain": [
       "'summer'"
      ]
     },
     "execution_count": 21,
     "metadata": {},
     "output_type": "execute_result"
    }
   ],
   "source": [
    "second_list[0]"
   ]
  },
  {
   "cell_type": "code",
   "execution_count": 22,
   "metadata": {},
   "outputs": [],
   "source": [
    "second_list.append('spring')"
   ]
  },
  {
   "cell_type": "code",
   "execution_count": 23,
   "metadata": {},
   "outputs": [
    {
     "data": {
      "text/plain": [
       "['summer', 'autumn', 'winter', 'spring']"
      ]
     },
     "execution_count": 23,
     "metadata": {},
     "output_type": "execute_result"
    }
   ],
   "source": [
    "second_list"
   ]
  },
  {
   "cell_type": "code",
   "execution_count": 26,
   "metadata": {},
   "outputs": [
    {
     "name": "stdout",
     "output_type": "stream",
     "text": [
      "summer\n",
      "autumn\n",
      "winter\n",
      "spring\n"
     ]
    }
   ],
   "source": [
    "# iteration over a list\n",
    "\n",
    "for i in second_list:\n",
    "    print(i)"
   ]
  },
  {
   "cell_type": "code",
   "execution_count": 34,
   "metadata": {},
   "outputs": [
    {
     "data": {
      "text/plain": [
       "[0, 1, 2, 3]"
      ]
     },
     "execution_count": 34,
     "metadata": {},
     "output_type": "execute_result"
    }
   ],
   "source": [
    "list(range(len(second_list)))"
   ]
  },
  {
   "cell_type": "code",
   "execution_count": 35,
   "metadata": {},
   "outputs": [
    {
     "data": {
      "text/plain": [
       "4"
      ]
     },
     "execution_count": 35,
     "metadata": {},
     "output_type": "execute_result"
    }
   ],
   "source": [
    "len(second_list)"
   ]
  },
  {
   "cell_type": "code",
   "execution_count": 37,
   "metadata": {},
   "outputs": [
    {
     "data": {
      "text/plain": [
       "range(0, 4)"
      ]
     },
     "execution_count": 37,
     "metadata": {},
     "output_type": "execute_result"
    }
   ],
   "source": [
    "range(len(second_list))"
   ]
  },
  {
   "cell_type": "code",
   "execution_count": 38,
   "metadata": {},
   "outputs": [
    {
     "data": {
      "text/plain": [
       "[0, 1, 2, 3]"
      ]
     },
     "execution_count": 38,
     "metadata": {},
     "output_type": "execute_result"
    }
   ],
   "source": [
    "list(range(len(second_list)))"
   ]
  },
  {
   "cell_type": "markdown",
   "metadata": {},
   "source": [
    "#### list sorting"
   ]
  },
  {
   "cell_type": "code",
   "execution_count": 40,
   "metadata": {},
   "outputs": [],
   "source": [
    "second_list.sort()"
   ]
  },
  {
   "cell_type": "code",
   "execution_count": 45,
   "metadata": {},
   "outputs": [
    {
     "data": {
      "text/plain": [
       "['autumn', 'spring', 'summer', 'winter']"
      ]
     },
     "execution_count": 45,
     "metadata": {},
     "output_type": "execute_result"
    }
   ],
   "source": [
    "second_list"
   ]
  },
  {
   "cell_type": "code",
   "execution_count": 76,
   "metadata": {},
   "outputs": [
    {
     "name": "stdout",
     "output_type": "stream",
     "text": [
      "Sorted Array in Ascending Order:\n",
      "[-2, 1, 1, 4, 7, 9, 10]\n"
     ]
    }
   ],
   "source": [
    "def quicksort(arr):\n",
    "    if len(arr) <= 1:\n",
    "        return arr\n",
    "    else:\n",
    "        pivot = arr[0]\n",
    "        left = [x for x in arr[1:] if x < pivot]\n",
    "        right = [x for x in arr[1:] if x >= pivot]\n",
    "        return quicksort(left) + [pivot] + quicksort(right)\n",
    "\n",
    "# example\n",
    "arr = [1, 7, 4, 1, 10, 9, -2]\n",
    "sorted_arr = quicksort(arr)\n",
    "print(\"Sorted Array in Ascending Order:\")\n",
    "print(sorted_arr)\n"
   ]
  },
  {
   "cell_type": "markdown",
   "metadata": {},
   "source": [
    "#### list slicing"
   ]
  },
  {
   "cell_type": "code",
   "execution_count": 46,
   "metadata": {},
   "outputs": [],
   "source": [
    "dwarfs = [\"Doc\", \"Bashful\", \" Grumpy\", \"Sneezy\", \"Happy\", \"Sleepy\", \"Dopey\"]"
   ]
  },
  {
   "cell_type": "code",
   "execution_count": 48,
   "metadata": {},
   "outputs": [
    {
     "data": {
      "text/plain": [
       "['Doc', 'Bashful', ' Grumpy', 'Sneezy', 'Happy', 'Sleepy', 'Dopey']"
      ]
     },
     "execution_count": 48,
     "metadata": {},
     "output_type": "execute_result"
    }
   ],
   "source": [
    "dwarfs"
   ]
  },
  {
   "cell_type": "code",
   "execution_count": 50,
   "metadata": {},
   "outputs": [
    {
     "data": {
      "text/plain": [
       "['Bashful', ' Grumpy', 'Sneezy', 'Happy']"
      ]
     },
     "execution_count": 50,
     "metadata": {},
     "output_type": "execute_result"
    }
   ],
   "source": [
    "dwarfs[1:5] "
   ]
  },
  {
   "cell_type": "code",
   "execution_count": 52,
   "metadata": {},
   "outputs": [
    {
     "data": {
      "text/plain": [
       "['Doc', 'Bashful', ' Grumpy', 'Sneezy', 'Happy']"
      ]
     },
     "execution_count": 52,
     "metadata": {},
     "output_type": "execute_result"
    }
   ],
   "source": [
    "dwarfs[:5]"
   ]
  },
  {
   "cell_type": "code",
   "execution_count": 54,
   "metadata": {},
   "outputs": [
    {
     "data": {
      "text/plain": [
       "['Sleepy', 'Dopey']"
      ]
     },
     "execution_count": 54,
     "metadata": {},
     "output_type": "execute_result"
    }
   ],
   "source": [
    "dwarfs[5:]"
   ]
  },
  {
   "cell_type": "code",
   "execution_count": 56,
   "metadata": {},
   "outputs": [
    {
     "data": {
      "text/plain": [
       "['Doc', 'Bashful', ' Grumpy', 'Sneezy', 'Happy', 'Sleepy', 'Dopey']"
      ]
     },
     "execution_count": 56,
     "metadata": {},
     "output_type": "execute_result"
    }
   ],
   "source": [
    "dwarfs[:5] + dwarfs[5:]"
   ]
  },
  {
   "cell_type": "code",
   "execution_count": 58,
   "metadata": {},
   "outputs": [
    {
     "data": {
      "text/plain": [
       "['Doc', 'Bashful', ' Grumpy', 'Sneezy', 'Happy', 'Sleepy', 'Dopey']"
      ]
     },
     "execution_count": 58,
     "metadata": {},
     "output_type": "execute_result"
    }
   ],
   "source": [
    "dwarfs[:]"
   ]
  },
  {
   "cell_type": "code",
   "execution_count": 60,
   "metadata": {},
   "outputs": [
    {
     "data": {
      "text/plain": [
       "['Bashful', 'Sneezy']"
      ]
     },
     "execution_count": 60,
     "metadata": {},
     "output_type": "execute_result"
    }
   ],
   "source": [
    "dwarfs[1:5:2]"
   ]
  },
  {
   "cell_type": "code",
   "execution_count": 62,
   "metadata": {},
   "outputs": [
    {
     "data": {
      "text/plain": [
       "'Dopey'"
      ]
     },
     "execution_count": 62,
     "metadata": {},
     "output_type": "execute_result"
    }
   ],
   "source": [
    "dwarfs[-1]"
   ]
  },
  {
   "cell_type": "code",
   "execution_count": 64,
   "metadata": {},
   "outputs": [
    {
     "data": {
      "text/plain": [
       "[' Grumpy', 'Sneezy', 'Happy', 'Sleepy']"
      ]
     },
     "execution_count": 64,
     "metadata": {},
     "output_type": "execute_result"
    }
   ],
   "source": [
    "dwarfs[-5:-1]"
   ]
  },
  {
   "cell_type": "code",
   "execution_count": 68,
   "metadata": {},
   "outputs": [
    {
     "data": {
      "text/plain": [
       "['Dopey', 'Sleepy', 'Happy', 'Sneezy']"
      ]
     },
     "execution_count": 68,
     "metadata": {},
     "output_type": "execute_result"
    }
   ],
   "source": [
    "dwarfs[-1:-5:-1]"
   ]
  },
  {
   "cell_type": "code",
   "execution_count": 70,
   "metadata": {},
   "outputs": [
    {
     "data": {
      "text/plain": [
       "[]"
      ]
     },
     "execution_count": 70,
     "metadata": {},
     "output_type": "execute_result"
    }
   ],
   "source": [
    "dwarfs[-1:-5] # remember that without -1 given an empty list"
   ]
  },
  {
   "cell_type": "code",
   "execution_count": 73,
   "metadata": {},
   "outputs": [
    {
     "data": {
      "text/plain": [
       "['Dopey', 'Sleepy', 'Happy', 'Sneezy', ' Grumpy', 'Bashful', 'Doc']"
      ]
     },
     "execution_count": 73,
     "metadata": {},
     "output_type": "execute_result"
    }
   ],
   "source": [
    "dwarfs[::-1] # gives back all the elements in reversed order"
   ]
  },
  {
   "cell_type": "markdown",
   "metadata": {},
   "source": [
    "#### exercise\n",
    "\n",
    "given a list, reverse the left with the right part\n",
    "(calculate the middle index, and then use slicing to reverse)"
   ]
  },
  {
   "cell_type": "code",
   "execution_count": 23,
   "metadata": {},
   "outputs": [],
   "source": [
    "try_list = [4,6,8,9,5,12,4,45,6,7,7,7,54,3,2,5,44,5,5,555]"
   ]
  },
  {
   "cell_type": "code",
   "execution_count": 24,
   "metadata": {},
   "outputs": [],
   "source": [
    "def reverse_right_left(list):\n",
    "    middle_index = len(list) // 2\n",
    "    \n",
    "    right_part = list[middle_index:]\n",
    "    left_part = list[:middle_index]\n",
    "    \n",
    "    result = right_part + left_part\n",
    "    \n",
    "    return result"
   ]
  },
  {
   "cell_type": "code",
   "execution_count": 25,
   "metadata": {},
   "outputs": [
    {
     "data": {
      "text/plain": [
       "[7, 7, 54, 3, 2, 5, 44, 5, 5, 555, 4, 6, 8, 9, 5, 12, 4, 45, 6, 7]"
      ]
     },
     "execution_count": 25,
     "metadata": {},
     "output_type": "execute_result"
    }
   ],
   "source": [
    "reverse_right_left(try_list)"
   ]
  },
  {
   "cell_type": "code",
   "execution_count": 26,
   "metadata": {},
   "outputs": [],
   "source": [
    "A = [[1, 2, 3], [4, 5, 6], [7, 8, 9]] # list of lists"
   ]
  },
  {
   "cell_type": "code",
   "execution_count": 27,
   "metadata": {},
   "outputs": [
    {
     "data": {
      "text/plain": [
       "[[1, 2, 3], [4, 5, 6], [7, 8, 9]]"
      ]
     },
     "execution_count": 27,
     "metadata": {},
     "output_type": "execute_result"
    }
   ],
   "source": [
    "A"
   ]
  },
  {
   "cell_type": "code",
   "execution_count": 28,
   "metadata": {},
   "outputs": [
    {
     "data": {
      "text/plain": [
       "[4, 5, 6]"
      ]
     },
     "execution_count": 28,
     "metadata": {},
     "output_type": "execute_result"
    }
   ],
   "source": [
    "A[1]"
   ]
  },
  {
   "cell_type": "code",
   "execution_count": 29,
   "metadata": {},
   "outputs": [
    {
     "data": {
      "text/plain": [
       "6"
      ]
     },
     "execution_count": 29,
     "metadata": {},
     "output_type": "execute_result"
    }
   ],
   "source": [
    "A[1][2]\n",
    "\n",
    "# first element of the list that is the middle list, and then \n",
    "# take the second elemend of that middle list that is 6"
   ]
  },
  {
   "cell_type": "code",
   "execution_count": 30,
   "metadata": {},
   "outputs": [
    {
     "data": {
      "text/plain": [
       "3"
      ]
     },
     "execution_count": 30,
     "metadata": {},
     "output_type": "execute_result"
    }
   ],
   "source": [
    "A[0][-1]"
   ]
  },
  {
   "cell_type": "code",
   "execution_count": 31,
   "metadata": {},
   "outputs": [],
   "source": [
    "# we want to get the last item for every list in the A list\n",
    "\n",
    "last_column = []\n",
    "\n",
    "for item in A:\n",
    "    last_column.append(item[-1])"
   ]
  },
  {
   "cell_type": "code",
   "execution_count": 32,
   "metadata": {},
   "outputs": [
    {
     "data": {
      "text/plain": [
       "[3, 6, 9]"
      ]
     },
     "execution_count": 32,
     "metadata": {},
     "output_type": "execute_result"
    }
   ],
   "source": [
    "last_column"
   ]
  },
  {
   "cell_type": "code",
   "execution_count": 33,
   "metadata": {},
   "outputs": [
    {
     "name": "stdout",
     "output_type": "stream",
     "text": [
      "[3, 6, 9]\n"
     ]
    }
   ],
   "source": [
    "# the same works with list comprehension\n",
    "\n",
    "last_column = [row[-1] for row in A]\n",
    "print(last_column)"
   ]
  },
  {
   "cell_type": "markdown",
   "metadata": {},
   "source": [
    "### practise 1"
   ]
  },
  {
   "cell_type": "markdown",
   "metadata": {},
   "source": [
    "#### exercise 1\n",
    "\n",
    "Given a list in input, returns the list of uniques values"
   ]
  },
  {
   "cell_type": "code",
   "execution_count": 46,
   "metadata": {},
   "outputs": [],
   "source": [
    "def unique_values(my_list):\n",
    "    values = []\n",
    "    for item in my_list:\n",
    "        if item not in values:\n",
    "            values.append(item)\n",
    "\n",
    "    return values"
   ]
  },
  {
   "cell_type": "code",
   "execution_count": 47,
   "metadata": {},
   "outputs": [
    {
     "data": {
      "text/plain": [
       "[4, 6, 8, 9, 5, 12, 45, 7, 54, 3, 2, 44, 555]"
      ]
     },
     "execution_count": 47,
     "metadata": {},
     "output_type": "execute_result"
    }
   ],
   "source": [
    "unique_values(try_list)"
   ]
  },
  {
   "cell_type": "code",
   "execution_count": 36,
   "metadata": {},
   "outputs": [],
   "source": [
    "def unique_values_by_set(my_list):\n",
    "    my_set = set(my_list)\n",
    "    return list(my_set)"
   ]
  },
  {
   "cell_type": "code",
   "execution_count": 37,
   "metadata": {},
   "outputs": [
    {
     "data": {
      "text/plain": [
       "[2, 3, 4, 5, 6, 7, 8, 9, 555, 12, 45, 44, 54]"
      ]
     },
     "execution_count": 37,
     "metadata": {},
     "output_type": "execute_result"
    }
   ],
   "source": [
    "unique_values_by_set(try_list)"
   ]
  },
  {
   "cell_type": "markdown",
   "metadata": {},
   "source": [
    "#### dataset"
   ]
  },
  {
   "cell_type": "code",
   "execution_count": 38,
   "metadata": {},
   "outputs": [],
   "source": [
    "# pull request from a datset added via upload files into the git-hub repository\n",
    "\n",
    "with open(\"supermarket.csv\", newline=\"\") as f:\n",
    "    reader = csv.reader(f, delimiter=\",\")\n",
    "    records = list(reader)"
   ]
  },
  {
   "cell_type": "code",
   "execution_count": 39,
   "metadata": {},
   "outputs": [
    {
     "data": {
      "text/plain": [
       "['750-67-8428',\n",
       " 'Alex',\n",
       " 'Yangon',\n",
       " 'Member',\n",
       " 'Female',\n",
       " 'Health and beauty',\n",
       " '74.69',\n",
       " '7',\n",
       " '26.1415',\n",
       " '548.9715',\n",
       " '1/5/2019',\n",
       " '1:08:00 PM',\n",
       " 'Ewallet',\n",
       " '522.83',\n",
       " '4.761904762',\n",
       " '26.1415',\n",
       " '9.1']"
      ]
     },
     "execution_count": 39,
     "metadata": {},
     "output_type": "execute_result"
    }
   ],
   "source": [
    "records[1]"
   ]
  },
  {
   "cell_type": "code",
   "execution_count": 40,
   "metadata": {},
   "outputs": [
    {
     "data": {
      "text/plain": [
       "[['ï»¿Invoice ID',\n",
       "  'Branch',\n",
       "  'City',\n",
       "  'Customer type',\n",
       "  'Gender',\n",
       "  'Product line',\n",
       "  'Unit price',\n",
       "  'Quantity',\n",
       "  'Tax 5%',\n",
       "  'Sales',\n",
       "  'Date',\n",
       "  'Time',\n",
       "  'Payment',\n",
       "  'cogs',\n",
       "  'gross margin percentage',\n",
       "  'gross income',\n",
       "  'Rating']]"
      ]
     },
     "execution_count": 40,
     "metadata": {},
     "output_type": "execute_result"
    }
   ],
   "source": [
    "records[:1]"
   ]
  },
  {
   "cell_type": "code",
   "execution_count": 41,
   "metadata": {},
   "outputs": [],
   "source": [
    "records = records[1:]"
   ]
  },
  {
   "cell_type": "code",
   "execution_count": 42,
   "metadata": {},
   "outputs": [],
   "source": [
    "# create a list with the unique names of branches (content of the 2nd column)\n",
    "\n",
    "branches = [row[1] for row in records]"
   ]
  },
  {
   "cell_type": "code",
   "execution_count": 43,
   "metadata": {},
   "outputs": [
    {
     "data": {
      "text/plain": [
       "['Alex',\n",
       " 'Giza',\n",
       " 'Alex',\n",
       " 'Alex',\n",
       " 'Alex',\n",
       " 'Giza',\n",
       " 'Alex',\n",
       " 'Giza',\n",
       " 'Alex',\n",
       " 'Cairo',\n",
       " 'Cairo',\n",
       " 'Cairo',\n",
       " 'Alex',\n",
       " 'Alex',\n",
       " 'Alex',\n",
       " 'Cairo',\n",
       " 'Alex',\n",
       " 'Alex',\n",
       " 'Alex',\n",
       " 'Cairo',\n",
       " 'Giza',\n",
       " 'Cairo',\n",
       " 'Cairo',\n",
       " 'Alex',\n",
       " 'Alex',\n",
       " 'Alex',\n",
       " 'Cairo',\n",
       " 'Alex',\n",
       " 'Cairo',\n",
       " 'Alex',\n",
       " 'Cairo',\n",
       " 'Cairo',\n",
       " 'Cairo',\n",
       " 'Alex',\n",
       " 'Giza',\n",
       " 'Giza',\n",
       " 'Alex',\n",
       " 'Alex',\n",
       " 'Giza',\n",
       " 'Cairo',\n",
       " 'Cairo',\n",
       " 'Giza',\n",
       " 'Cairo',\n",
       " 'Giza',\n",
       " 'Giza',\n",
       " 'Cairo',\n",
       " 'Cairo',\n",
       " 'Cairo',\n",
       " 'Cairo',\n",
       " 'Giza',\n",
       " 'Giza',\n",
       " 'Alex',\n",
       " 'Cairo',\n",
       " 'Giza',\n",
       " 'Cairo',\n",
       " 'Giza',\n",
       " 'Alex',\n",
       " 'Alex',\n",
       " 'Alex',\n",
       " 'Giza',\n",
       " 'Giza',\n",
       " 'Giza',\n",
       " 'Cairo',\n",
       " 'Alex',\n",
       " 'Cairo',\n",
       " 'Alex',\n",
       " 'Giza',\n",
       " 'Cairo',\n",
       " 'Alex',\n",
       " 'Alex',\n",
       " 'Giza',\n",
       " 'Giza',\n",
       " 'Cairo',\n",
       " 'Giza',\n",
       " 'Alex',\n",
       " 'Giza',\n",
       " 'Giza',\n",
       " 'Alex',\n",
       " 'Giza',\n",
       " 'Giza',\n",
       " 'Giza',\n",
       " 'Cairo',\n",
       " 'Giza',\n",
       " 'Giza',\n",
       " 'Giza',\n",
       " 'Giza',\n",
       " 'Giza',\n",
       " 'Alex',\n",
       " 'Alex',\n",
       " 'Cairo',\n",
       " 'Giza',\n",
       " 'Giza',\n",
       " 'Alex',\n",
       " 'Cairo',\n",
       " 'Giza',\n",
       " 'Alex',\n",
       " 'Cairo',\n",
       " 'Giza',\n",
       " 'Alex',\n",
       " 'Cairo',\n",
       " 'Giza',\n",
       " 'Giza',\n",
       " 'Giza',\n",
       " 'Alex',\n",
       " 'Cairo',\n",
       " 'Alex',\n",
       " 'Giza',\n",
       " 'Alex',\n",
       " 'Giza',\n",
       " 'Giza',\n",
       " 'Cairo',\n",
       " 'Giza',\n",
       " 'Cairo',\n",
       " 'Alex',\n",
       " 'Giza',\n",
       " 'Giza',\n",
       " 'Cairo',\n",
       " 'Cairo',\n",
       " 'Alex',\n",
       " 'Cairo',\n",
       " 'Alex',\n",
       " 'Giza',\n",
       " 'Cairo',\n",
       " 'Giza',\n",
       " 'Cairo',\n",
       " 'Alex',\n",
       " 'Alex',\n",
       " 'Giza',\n",
       " 'Giza',\n",
       " 'Cairo',\n",
       " 'Cairo',\n",
       " 'Alex',\n",
       " 'Cairo',\n",
       " 'Cairo',\n",
       " 'Giza',\n",
       " 'Giza',\n",
       " 'Alex',\n",
       " 'Alex',\n",
       " 'Cairo',\n",
       " 'Alex',\n",
       " 'Giza',\n",
       " 'Giza',\n",
       " 'Giza',\n",
       " 'Giza',\n",
       " 'Alex',\n",
       " 'Giza',\n",
       " 'Alex',\n",
       " 'Giza',\n",
       " 'Cairo',\n",
       " 'Alex',\n",
       " 'Cairo',\n",
       " 'Giza',\n",
       " 'Alex',\n",
       " 'Giza',\n",
       " 'Giza',\n",
       " 'Alex',\n",
       " 'Cairo',\n",
       " 'Cairo',\n",
       " 'Cairo',\n",
       " 'Cairo',\n",
       " 'Giza',\n",
       " 'Alex',\n",
       " 'Alex',\n",
       " 'Giza',\n",
       " 'Cairo',\n",
       " 'Cairo',\n",
       " 'Giza',\n",
       " 'Alex',\n",
       " 'Alex',\n",
       " 'Alex',\n",
       " 'Alex',\n",
       " 'Cairo',\n",
       " 'Giza',\n",
       " 'Cairo',\n",
       " 'Cairo',\n",
       " 'Alex',\n",
       " 'Alex',\n",
       " 'Giza',\n",
       " 'Alex',\n",
       " 'Giza',\n",
       " 'Giza',\n",
       " 'Giza',\n",
       " 'Alex',\n",
       " 'Giza',\n",
       " 'Alex',\n",
       " 'Cairo',\n",
       " 'Cairo',\n",
       " 'Cairo',\n",
       " 'Alex',\n",
       " 'Giza',\n",
       " 'Cairo',\n",
       " 'Cairo',\n",
       " 'Giza',\n",
       " 'Cairo',\n",
       " 'Alex',\n",
       " 'Giza',\n",
       " 'Giza',\n",
       " 'Alex',\n",
       " 'Giza',\n",
       " 'Giza',\n",
       " 'Giza',\n",
       " 'Cairo',\n",
       " 'Giza',\n",
       " 'Cairo',\n",
       " 'Cairo',\n",
       " 'Alex',\n",
       " 'Giza',\n",
       " 'Giza',\n",
       " 'Cairo',\n",
       " 'Cairo',\n",
       " 'Alex',\n",
       " 'Giza',\n",
       " 'Cairo',\n",
       " 'Cairo',\n",
       " 'Cairo',\n",
       " 'Alex',\n",
       " 'Cairo',\n",
       " 'Alex',\n",
       " 'Cairo',\n",
       " 'Cairo',\n",
       " 'Cairo',\n",
       " 'Cairo',\n",
       " 'Giza',\n",
       " 'Giza',\n",
       " 'Alex',\n",
       " 'Giza',\n",
       " 'Cairo',\n",
       " 'Giza',\n",
       " 'Cairo',\n",
       " 'Alex',\n",
       " 'Cairo',\n",
       " 'Cairo',\n",
       " 'Cairo',\n",
       " 'Cairo',\n",
       " 'Alex',\n",
       " 'Alex',\n",
       " 'Giza',\n",
       " 'Giza',\n",
       " 'Cairo',\n",
       " 'Alex',\n",
       " 'Alex',\n",
       " 'Alex',\n",
       " 'Giza',\n",
       " 'Alex',\n",
       " 'Cairo',\n",
       " 'Alex',\n",
       " 'Cairo',\n",
       " 'Alex',\n",
       " 'Alex',\n",
       " 'Cairo',\n",
       " 'Cairo',\n",
       " 'Giza',\n",
       " 'Giza',\n",
       " 'Alex',\n",
       " 'Alex',\n",
       " 'Cairo',\n",
       " 'Alex',\n",
       " 'Alex',\n",
       " 'Alex',\n",
       " 'Giza',\n",
       " 'Alex',\n",
       " 'Giza',\n",
       " 'Cairo',\n",
       " 'Alex',\n",
       " 'Cairo',\n",
       " 'Alex',\n",
       " 'Giza',\n",
       " 'Cairo',\n",
       " 'Alex',\n",
       " 'Alex',\n",
       " 'Cairo',\n",
       " 'Giza',\n",
       " 'Alex',\n",
       " 'Alex',\n",
       " 'Cairo',\n",
       " 'Cairo',\n",
       " 'Giza',\n",
       " 'Giza',\n",
       " 'Giza',\n",
       " 'Alex',\n",
       " 'Alex',\n",
       " 'Giza',\n",
       " 'Alex',\n",
       " 'Alex',\n",
       " 'Alex',\n",
       " 'Cairo',\n",
       " 'Giza',\n",
       " 'Giza',\n",
       " 'Cairo',\n",
       " 'Alex',\n",
       " 'Cairo',\n",
       " 'Giza',\n",
       " 'Alex',\n",
       " 'Alex',\n",
       " 'Cairo',\n",
       " 'Giza',\n",
       " 'Giza',\n",
       " 'Alex',\n",
       " 'Alex',\n",
       " 'Giza',\n",
       " 'Giza',\n",
       " 'Cairo',\n",
       " 'Giza',\n",
       " 'Alex',\n",
       " 'Cairo',\n",
       " 'Alex',\n",
       " 'Alex',\n",
       " 'Alex',\n",
       " 'Alex',\n",
       " 'Alex',\n",
       " 'Cairo',\n",
       " 'Giza',\n",
       " 'Alex',\n",
       " 'Alex',\n",
       " 'Giza',\n",
       " 'Giza',\n",
       " 'Giza',\n",
       " 'Giza',\n",
       " 'Giza',\n",
       " 'Giza',\n",
       " 'Giza',\n",
       " 'Giza',\n",
       " 'Alex',\n",
       " 'Alex',\n",
       " 'Alex',\n",
       " 'Cairo',\n",
       " 'Alex',\n",
       " 'Giza',\n",
       " 'Cairo',\n",
       " 'Alex',\n",
       " 'Cairo',\n",
       " 'Alex',\n",
       " 'Alex',\n",
       " 'Alex',\n",
       " 'Giza',\n",
       " 'Alex',\n",
       " 'Alex',\n",
       " 'Cairo',\n",
       " 'Giza',\n",
       " 'Cairo',\n",
       " 'Cairo',\n",
       " 'Cairo',\n",
       " 'Cairo',\n",
       " 'Giza',\n",
       " 'Alex',\n",
       " 'Alex',\n",
       " 'Alex',\n",
       " 'Giza',\n",
       " 'Alex',\n",
       " 'Cairo',\n",
       " 'Giza',\n",
       " 'Alex',\n",
       " 'Cairo',\n",
       " 'Cairo',\n",
       " 'Giza',\n",
       " 'Cairo',\n",
       " 'Giza',\n",
       " 'Giza',\n",
       " 'Cairo',\n",
       " 'Cairo',\n",
       " 'Alex',\n",
       " 'Giza',\n",
       " 'Giza',\n",
       " 'Alex',\n",
       " 'Giza',\n",
       " 'Giza',\n",
       " 'Giza',\n",
       " 'Alex',\n",
       " 'Giza',\n",
       " 'Alex',\n",
       " 'Cairo',\n",
       " 'Cairo',\n",
       " 'Giza',\n",
       " 'Giza',\n",
       " 'Alex',\n",
       " 'Alex',\n",
       " 'Cairo',\n",
       " 'Giza',\n",
       " 'Giza',\n",
       " 'Cairo',\n",
       " 'Alex',\n",
       " 'Giza',\n",
       " 'Cairo',\n",
       " 'Giza',\n",
       " 'Alex',\n",
       " 'Cairo',\n",
       " 'Giza',\n",
       " 'Alex',\n",
       " 'Giza',\n",
       " 'Cairo',\n",
       " 'Giza',\n",
       " 'Cairo',\n",
       " 'Alex',\n",
       " 'Alex',\n",
       " 'Alex',\n",
       " 'Alex',\n",
       " 'Alex',\n",
       " 'Cairo',\n",
       " 'Cairo',\n",
       " 'Cairo',\n",
       " 'Giza',\n",
       " 'Giza',\n",
       " 'Giza',\n",
       " 'Cairo',\n",
       " 'Giza',\n",
       " 'Alex',\n",
       " 'Alex',\n",
       " 'Cairo',\n",
       " 'Alex',\n",
       " 'Giza',\n",
       " 'Cairo',\n",
       " 'Cairo',\n",
       " 'Alex',\n",
       " 'Alex',\n",
       " 'Alex',\n",
       " 'Cairo',\n",
       " 'Giza',\n",
       " 'Giza',\n",
       " 'Cairo',\n",
       " 'Alex',\n",
       " 'Giza',\n",
       " 'Giza',\n",
       " 'Giza',\n",
       " 'Cairo',\n",
       " 'Giza',\n",
       " 'Cairo',\n",
       " 'Alex',\n",
       " 'Cairo',\n",
       " 'Cairo',\n",
       " 'Alex',\n",
       " 'Cairo',\n",
       " 'Giza',\n",
       " 'Alex',\n",
       " 'Cairo',\n",
       " 'Cairo',\n",
       " 'Giza',\n",
       " 'Giza',\n",
       " 'Alex',\n",
       " 'Giza',\n",
       " 'Giza',\n",
       " 'Giza',\n",
       " 'Cairo',\n",
       " 'Alex',\n",
       " 'Giza',\n",
       " 'Alex',\n",
       " 'Cairo',\n",
       " 'Giza',\n",
       " 'Giza',\n",
       " 'Cairo',\n",
       " 'Cairo',\n",
       " 'Cairo',\n",
       " 'Cairo',\n",
       " 'Alex',\n",
       " 'Alex',\n",
       " 'Alex',\n",
       " 'Cairo',\n",
       " 'Cairo',\n",
       " 'Cairo',\n",
       " 'Giza',\n",
       " 'Giza',\n",
       " 'Giza',\n",
       " 'Cairo',\n",
       " 'Giza',\n",
       " 'Giza',\n",
       " 'Alex',\n",
       " 'Giza',\n",
       " 'Giza',\n",
       " 'Cairo',\n",
       " 'Giza',\n",
       " 'Giza',\n",
       " 'Giza',\n",
       " 'Alex',\n",
       " 'Alex',\n",
       " 'Cairo',\n",
       " 'Alex',\n",
       " 'Alex',\n",
       " 'Alex',\n",
       " 'Giza',\n",
       " 'Cairo',\n",
       " 'Alex',\n",
       " 'Giza',\n",
       " 'Giza',\n",
       " 'Alex',\n",
       " 'Cairo',\n",
       " 'Giza',\n",
       " 'Cairo',\n",
       " 'Cairo',\n",
       " 'Alex',\n",
       " 'Giza',\n",
       " 'Cairo',\n",
       " 'Cairo',\n",
       " 'Alex',\n",
       " 'Cairo',\n",
       " 'Giza',\n",
       " 'Cairo',\n",
       " 'Cairo',\n",
       " 'Giza',\n",
       " 'Giza',\n",
       " 'Cairo',\n",
       " 'Alex',\n",
       " 'Cairo',\n",
       " 'Giza',\n",
       " 'Giza',\n",
       " 'Cairo',\n",
       " 'Cairo',\n",
       " 'Alex',\n",
       " 'Cairo',\n",
       " 'Cairo',\n",
       " 'Cairo',\n",
       " 'Giza',\n",
       " 'Cairo',\n",
       " 'Alex',\n",
       " 'Alex',\n",
       " 'Alex',\n",
       " 'Giza',\n",
       " 'Giza',\n",
       " 'Cairo',\n",
       " 'Giza',\n",
       " 'Alex',\n",
       " 'Giza',\n",
       " 'Cairo',\n",
       " 'Giza',\n",
       " 'Alex',\n",
       " 'Giza',\n",
       " 'Alex',\n",
       " 'Alex',\n",
       " 'Cairo',\n",
       " 'Cairo',\n",
       " 'Cairo',\n",
       " 'Alex',\n",
       " 'Alex',\n",
       " 'Alex',\n",
       " 'Cairo',\n",
       " 'Giza',\n",
       " 'Alex',\n",
       " 'Giza',\n",
       " 'Cairo',\n",
       " 'Alex',\n",
       " 'Alex',\n",
       " 'Giza',\n",
       " 'Alex',\n",
       " 'Giza',\n",
       " 'Cairo',\n",
       " 'Giza',\n",
       " 'Cairo',\n",
       " 'Cairo',\n",
       " 'Alex',\n",
       " 'Alex',\n",
       " 'Cairo',\n",
       " 'Alex',\n",
       " 'Cairo',\n",
       " 'Cairo',\n",
       " 'Cairo',\n",
       " 'Giza',\n",
       " 'Alex',\n",
       " 'Cairo',\n",
       " 'Cairo',\n",
       " 'Giza',\n",
       " 'Alex',\n",
       " 'Alex',\n",
       " 'Cairo',\n",
       " 'Giza',\n",
       " 'Cairo',\n",
       " 'Alex',\n",
       " 'Cairo',\n",
       " 'Alex',\n",
       " 'Giza',\n",
       " 'Alex',\n",
       " 'Cairo',\n",
       " 'Giza',\n",
       " 'Cairo',\n",
       " 'Cairo',\n",
       " 'Alex',\n",
       " 'Cairo',\n",
       " 'Alex',\n",
       " 'Cairo',\n",
       " 'Cairo',\n",
       " 'Giza',\n",
       " 'Alex',\n",
       " 'Cairo',\n",
       " 'Giza',\n",
       " 'Alex',\n",
       " 'Giza',\n",
       " 'Cairo',\n",
       " 'Cairo',\n",
       " 'Alex',\n",
       " 'Alex',\n",
       " 'Alex',\n",
       " 'Giza',\n",
       " 'Alex',\n",
       " 'Giza',\n",
       " 'Giza',\n",
       " 'Alex',\n",
       " 'Alex',\n",
       " 'Cairo',\n",
       " 'Cairo',\n",
       " 'Alex',\n",
       " 'Giza',\n",
       " 'Giza',\n",
       " 'Alex',\n",
       " 'Giza',\n",
       " 'Giza',\n",
       " 'Giza',\n",
       " 'Cairo',\n",
       " 'Giza',\n",
       " 'Cairo',\n",
       " 'Alex',\n",
       " 'Giza',\n",
       " 'Alex',\n",
       " 'Cairo',\n",
       " 'Alex',\n",
       " 'Giza',\n",
       " 'Cairo',\n",
       " 'Giza',\n",
       " 'Alex',\n",
       " 'Alex',\n",
       " 'Cairo',\n",
       " 'Giza',\n",
       " 'Alex',\n",
       " 'Giza',\n",
       " 'Alex',\n",
       " 'Alex',\n",
       " 'Cairo',\n",
       " 'Cairo',\n",
       " 'Cairo',\n",
       " 'Cairo',\n",
       " 'Alex',\n",
       " 'Cairo',\n",
       " 'Alex',\n",
       " 'Alex',\n",
       " 'Alex',\n",
       " 'Alex',\n",
       " 'Alex',\n",
       " 'Cairo',\n",
       " 'Cairo',\n",
       " 'Cairo',\n",
       " 'Alex',\n",
       " 'Giza',\n",
       " 'Cairo',\n",
       " 'Cairo',\n",
       " 'Cairo',\n",
       " 'Giza',\n",
       " 'Cairo',\n",
       " 'Giza',\n",
       " 'Giza',\n",
       " 'Alex',\n",
       " 'Giza',\n",
       " 'Cairo',\n",
       " 'Giza',\n",
       " 'Giza',\n",
       " 'Cairo',\n",
       " 'Cairo',\n",
       " 'Alex',\n",
       " 'Cairo',\n",
       " 'Cairo',\n",
       " 'Alex',\n",
       " 'Giza',\n",
       " 'Alex',\n",
       " 'Alex',\n",
       " 'Alex',\n",
       " 'Cairo',\n",
       " 'Giza',\n",
       " 'Cairo',\n",
       " 'Giza',\n",
       " 'Giza',\n",
       " 'Alex',\n",
       " 'Cairo',\n",
       " 'Cairo',\n",
       " 'Giza',\n",
       " 'Cairo',\n",
       " 'Alex',\n",
       " 'Cairo',\n",
       " 'Cairo',\n",
       " 'Giza',\n",
       " 'Alex',\n",
       " 'Cairo',\n",
       " 'Cairo',\n",
       " 'Alex',\n",
       " 'Giza',\n",
       " 'Alex',\n",
       " 'Cairo',\n",
       " 'Cairo',\n",
       " 'Giza',\n",
       " 'Alex',\n",
       " 'Cairo',\n",
       " 'Cairo',\n",
       " 'Cairo',\n",
       " 'Alex',\n",
       " 'Giza',\n",
       " 'Alex',\n",
       " 'Giza',\n",
       " 'Giza',\n",
       " 'Alex',\n",
       " 'Giza',\n",
       " 'Giza',\n",
       " 'Alex',\n",
       " 'Alex',\n",
       " 'Cairo',\n",
       " 'Alex',\n",
       " 'Giza',\n",
       " 'Giza',\n",
       " 'Cairo',\n",
       " 'Cairo',\n",
       " 'Cairo',\n",
       " 'Cairo',\n",
       " 'Cairo',\n",
       " 'Cairo',\n",
       " 'Giza',\n",
       " 'Giza',\n",
       " 'Alex',\n",
       " 'Alex',\n",
       " 'Giza',\n",
       " 'Giza',\n",
       " 'Giza',\n",
       " 'Giza',\n",
       " 'Alex',\n",
       " 'Alex',\n",
       " 'Alex',\n",
       " 'Alex',\n",
       " 'Cairo',\n",
       " 'Cairo',\n",
       " 'Giza',\n",
       " 'Cairo',\n",
       " 'Giza',\n",
       " 'Cairo',\n",
       " 'Giza',\n",
       " 'Giza',\n",
       " 'Cairo',\n",
       " 'Giza',\n",
       " 'Cairo',\n",
       " 'Alex',\n",
       " 'Alex',\n",
       " 'Alex',\n",
       " 'Cairo',\n",
       " 'Cairo',\n",
       " 'Giza',\n",
       " 'Giza',\n",
       " 'Giza',\n",
       " 'Cairo',\n",
       " 'Alex',\n",
       " 'Giza',\n",
       " 'Giza',\n",
       " 'Alex',\n",
       " 'Alex',\n",
       " 'Giza',\n",
       " 'Giza',\n",
       " 'Cairo',\n",
       " 'Giza',\n",
       " 'Cairo',\n",
       " 'Giza',\n",
       " 'Cairo',\n",
       " 'Alex',\n",
       " 'Alex',\n",
       " 'Cairo',\n",
       " 'Giza',\n",
       " 'Alex',\n",
       " 'Cairo',\n",
       " 'Alex',\n",
       " 'Alex',\n",
       " 'Alex',\n",
       " 'Cairo',\n",
       " 'Cairo',\n",
       " 'Alex',\n",
       " 'Alex',\n",
       " 'Alex',\n",
       " 'Cairo',\n",
       " 'Giza',\n",
       " 'Cairo',\n",
       " 'Cairo',\n",
       " 'Alex',\n",
       " 'Cairo',\n",
       " 'Giza',\n",
       " 'Giza',\n",
       " 'Giza',\n",
       " 'Giza',\n",
       " 'Cairo',\n",
       " 'Giza',\n",
       " 'Cairo',\n",
       " 'Giza',\n",
       " 'Cairo',\n",
       " 'Giza',\n",
       " 'Alex',\n",
       " 'Alex',\n",
       " 'Giza',\n",
       " 'Giza',\n",
       " 'Alex',\n",
       " 'Giza',\n",
       " 'Giza',\n",
       " 'Giza',\n",
       " 'Alex',\n",
       " 'Alex',\n",
       " 'Giza',\n",
       " 'Cairo',\n",
       " 'Alex',\n",
       " 'Alex',\n",
       " 'Cairo',\n",
       " 'Giza',\n",
       " 'Alex',\n",
       " 'Cairo',\n",
       " 'Giza',\n",
       " 'Cairo',\n",
       " 'Giza',\n",
       " 'Giza',\n",
       " 'Alex',\n",
       " 'Cairo',\n",
       " 'Alex',\n",
       " 'Alex',\n",
       " 'Alex',\n",
       " 'Cairo',\n",
       " 'Giza',\n",
       " 'Cairo',\n",
       " 'Alex',\n",
       " 'Giza',\n",
       " 'Alex',\n",
       " 'Alex',\n",
       " 'Cairo',\n",
       " 'Giza',\n",
       " 'Alex',\n",
       " 'Cairo',\n",
       " 'Cairo',\n",
       " 'Cairo',\n",
       " 'Alex',\n",
       " 'Giza',\n",
       " 'Alex',\n",
       " 'Cairo',\n",
       " 'Alex',\n",
       " 'Cairo',\n",
       " 'Alex',\n",
       " 'Giza',\n",
       " 'Alex',\n",
       " 'Alex',\n",
       " 'Cairo',\n",
       " 'Cairo',\n",
       " 'Alex',\n",
       " 'Cairo',\n",
       " 'Alex',\n",
       " 'Alex',\n",
       " 'Cairo',\n",
       " 'Giza',\n",
       " 'Giza',\n",
       " 'Alex',\n",
       " 'Cairo',\n",
       " 'Alex',\n",
       " 'Giza',\n",
       " 'Alex',\n",
       " 'Alex',\n",
       " 'Alex',\n",
       " 'Giza',\n",
       " 'Giza',\n",
       " 'Alex',\n",
       " 'Alex',\n",
       " 'Alex',\n",
       " 'Giza',\n",
       " 'Cairo',\n",
       " 'Alex',\n",
       " 'Cairo',\n",
       " 'Cairo',\n",
       " 'Alex',\n",
       " 'Cairo',\n",
       " 'Alex',\n",
       " 'Giza',\n",
       " 'Alex',\n",
       " 'Cairo',\n",
       " 'Cairo',\n",
       " 'Alex',\n",
       " 'Giza',\n",
       " 'Cairo',\n",
       " 'Giza',\n",
       " 'Giza',\n",
       " 'Alex',\n",
       " 'Alex',\n",
       " 'Giza',\n",
       " 'Cairo',\n",
       " 'Alex',\n",
       " 'Alex',\n",
       " 'Giza',\n",
       " 'Giza',\n",
       " 'Cairo',\n",
       " 'Alex',\n",
       " 'Cairo',\n",
       " 'Cairo',\n",
       " 'Giza',\n",
       " 'Cairo',\n",
       " 'Alex',\n",
       " 'Alex',\n",
       " 'Alex',\n",
       " 'Alex',\n",
       " 'Alex',\n",
       " 'Giza',\n",
       " 'Alex',\n",
       " 'Giza',\n",
       " 'Cairo',\n",
       " 'Giza',\n",
       " 'Cairo',\n",
       " 'Cairo',\n",
       " 'Cairo',\n",
       " 'Giza',\n",
       " 'Giza',\n",
       " 'Giza',\n",
       " 'Alex',\n",
       " 'Giza',\n",
       " 'Cairo',\n",
       " 'Alex',\n",
       " 'Alex',\n",
       " 'Giza',\n",
       " 'Giza',\n",
       " 'Giza',\n",
       " 'Cairo',\n",
       " 'Alex',\n",
       " 'Cairo',\n",
       " 'Cairo',\n",
       " 'Giza',\n",
       " 'Alex',\n",
       " 'Alex',\n",
       " 'Alex',\n",
       " 'Giza',\n",
       " 'Giza',\n",
       " 'Alex',\n",
       " 'Cairo',\n",
       " 'Cairo',\n",
       " 'Giza',\n",
       " 'Cairo',\n",
       " 'Giza',\n",
       " 'Giza',\n",
       " 'Giza',\n",
       " 'Cairo',\n",
       " 'Cairo',\n",
       " 'Alex',\n",
       " 'Cairo',\n",
       " 'Cairo',\n",
       " 'Cairo',\n",
       " 'Giza',\n",
       " 'Alex',\n",
       " 'Giza',\n",
       " 'Cairo',\n",
       " 'Giza',\n",
       " 'Giza',\n",
       " 'Alex',\n",
       " 'Alex',\n",
       " 'Giza',\n",
       " 'Alex',\n",
       " 'Giza',\n",
       " 'Alex',\n",
       " 'Alex',\n",
       " 'Alex',\n",
       " 'Alex',\n",
       " 'Giza',\n",
       " 'Cairo',\n",
       " 'Giza',\n",
       " 'Cairo',\n",
       " 'Cairo',\n",
       " 'Cairo',\n",
       " 'Cairo',\n",
       " 'Giza',\n",
       " 'Cairo',\n",
       " 'Alex',\n",
       " 'Giza',\n",
       " 'Cairo',\n",
       " 'Giza',\n",
       " 'Alex',\n",
       " 'Giza',\n",
       " 'Alex',\n",
       " 'Alex',\n",
       " 'Giza',\n",
       " 'Cairo',\n",
       " 'Cairo',\n",
       " 'Alex',\n",
       " 'Alex',\n",
       " 'Alex',\n",
       " 'Cairo',\n",
       " 'Cairo',\n",
       " 'Cairo',\n",
       " 'Cairo',\n",
       " 'Alex',\n",
       " 'Giza',\n",
       " 'Cairo',\n",
       " 'Alex',\n",
       " 'Cairo',\n",
       " 'Cairo',\n",
       " 'Cairo',\n",
       " 'Giza',\n",
       " 'Alex',\n",
       " 'Alex',\n",
       " 'Giza',\n",
       " 'Giza',\n",
       " 'Cairo',\n",
       " 'Cairo',\n",
       " 'Cairo',\n",
       " 'Giza',\n",
       " 'Cairo',\n",
       " 'Alex',\n",
       " 'Cairo',\n",
       " 'Alex',\n",
       " 'Cairo',\n",
       " 'Giza',\n",
       " 'Giza',\n",
       " 'Cairo',\n",
       " 'Alex',\n",
       " 'Alex',\n",
       " 'Alex']"
      ]
     },
     "execution_count": 43,
     "metadata": {},
     "output_type": "execute_result"
    }
   ],
   "source": [
    "branches"
   ]
  },
  {
   "cell_type": "code",
   "execution_count": 48,
   "metadata": {},
   "outputs": [
    {
     "data": {
      "text/plain": [
       "['Alex', 'Cairo', 'Giza']"
      ]
     },
     "execution_count": 48,
     "metadata": {},
     "output_type": "execute_result"
    }
   ],
   "source": [
    "unique_values_by_set(branches)"
   ]
  },
  {
   "cell_type": "code",
   "execution_count": 51,
   "metadata": {},
   "outputs": [],
   "source": [
    "sales = [row[9] for row in records]"
   ]
  },
  {
   "cell_type": "code",
   "execution_count": 52,
   "metadata": {},
   "outputs": [
    {
     "data": {
      "text/plain": [
       "['548.9715',\n",
       " '80.22',\n",
       " '340.5255',\n",
       " '489.048',\n",
       " '634.3785',\n",
       " '627.6165',\n",
       " '433.692',\n",
       " '772.38',\n",
       " '76.146',\n",
       " '172.746',\n",
       " '60.816',\n",
       " '107.142',\n",
       " '246.4875',\n",
       " '453.495',\n",
       " '749.49',\n",
       " '590.436',\n",
       " '506.6355',\n",
       " '457.443',\n",
       " '172.2105',\n",
       " '84.63',\n",
       " '451.71',\n",
       " '277.137',\n",
       " '69.72',\n",
       " '181.44',\n",
       " '279.1845',\n",
       " '441.756',\n",
       " '35.196',\n",
       " '184.107',\n",
       " '463.89',\n",
       " '235.2105',\n",
       " '494.1825',\n",
       " '737.7615',\n",
       " '703.752',\n",
       " '202.818',\n",
       " '417.564',\n",
       " '71.526',\n",
       " '328.755',\n",
       " '575.316',\n",
       " '461.328',\n",
       " '253.008',\n",
       " '91.056',\n",
       " '117.831',\n",
       " '435.456',\n",
       " '829.08',\n",
       " '32.277',\n",
       " '394.632',\n",
       " '535.7205',\n",
       " '189.0945',\n",
       " '119.259',\n",
       " '867.615',\n",
       " '671.79',\n",
       " '234.0975',\n",
       " '75.054',\n",
       " '16.2015',\n",
       " '33.936',\n",
       " '722.232',\n",
       " '93.114',\n",
       " '752.64',\n",
       " '759.675',\n",
       " '192.843',\n",
       " '77.931',\n",
       " '351.099',\n",
       " '520.4115',\n",
       " '166.005',\n",
       " '318.108',\n",
       " '166.635',\n",
       " '70.287',\n",
       " '614.943',\n",
       " '827.085',\n",
       " '19.2465',\n",
       " '939.54',\n",
       " '652.26',\n",
       " '152.838',\n",
       " '478.233',\n",
       " '705.6315',\n",
       " '437.325',\n",
       " '463.428',\n",
       " '189.0945',\n",
       " '822.255',\n",
       " '106.995',\n",
       " '624.897',\n",
       " '304.542',\n",
       " '161.7',\n",
       " '337.512',\n",
       " '256.7775',\n",
       " '610.491',\n",
       " '401.73',\n",
       " '362.943',\n",
       " '44.5935',\n",
       " '485.037',\n",
       " '198.996',\n",
       " '471.03',\n",
       " '161.553',\n",
       " '608.202',\n",
       " '94.2375',\n",
       " '102.018',\n",
       " '922.635',\n",
       " '78.435',\n",
       " '166.1625',\n",
       " '521.01',\n",
       " '51.1455',\n",
       " '742.2975',\n",
       " '218.0115',\n",
       " '367.038',\n",
       " '223.0725',\n",
       " '931.035',\n",
       " '172.494',\n",
       " '391.419',\n",
       " '321.111',\n",
       " '860.685',\n",
       " '34.629',\n",
       " '309.3615',\n",
       " '535.374',\n",
       " '548.7615',\n",
       " '763.4655',\n",
       " '85.113',\n",
       " '115.185',\n",
       " '53.928',\n",
       " '115.08',\n",
       " '112.224',\n",
       " '836.304',\n",
       " '419.832',\n",
       " '944.622',\n",
       " '536.844',\n",
       " '474.348',\n",
       " '688.6215',\n",
       " '169.3125',\n",
       " '299.8485',\n",
       " '575.736',\n",
       " '853.146',\n",
       " '291.207',\n",
       " '580.419',\n",
       " '146.328',\n",
       " '550.935',\n",
       " '512.19',\n",
       " '284.193',\n",
       " '138.1275',\n",
       " '216.846',\n",
       " '545.055',\n",
       " '609',\n",
       " '942.9',\n",
       " '950.25',\n",
       " '720.3',\n",
       " '31.9305',\n",
       " '491.085',\n",
       " '291.438',\n",
       " '316.47',\n",
       " '277.788',\n",
       " '603.624',\n",
       " '272.664',\n",
       " '384.468',\n",
       " '254.016',\n",
       " '786.618',\n",
       " '103.824',\n",
       " '680.148',\n",
       " '484.5225',\n",
       " '75.7785',\n",
       " '263.97',\n",
       " '918.729',\n",
       " '588.357',\n",
       " '362.712',\n",
       " '66.8745',\n",
       " '336.5565',\n",
       " '160.44',\n",
       " '418.95',\n",
       " '357.588',\n",
       " '1003.59',\n",
       " '1039.29',\n",
       " '323.064',\n",
       " '510.972',\n",
       " '367.5525',\n",
       " '420.2625',\n",
       " '175.14',\n",
       " '333.207',\n",
       " '166.236',\n",
       " '319.788',\n",
       " '186.228',\n",
       " '165.4485',\n",
       " '465.444',\n",
       " '273.42',\n",
       " '472.311',\n",
       " '323.148',\n",
       " '162.75',\n",
       " '288.204',\n",
       " '90.699',\n",
       " '56.952',\n",
       " '793.716',\n",
       " '195.174',\n",
       " '77.7735',\n",
       " '293.202',\n",
       " '242.676',\n",
       " '154.392',\n",
       " '829.71',\n",
       " '107.31',\n",
       " '171.7275',\n",
       " '78.0045',\n",
       " '91.77',\n",
       " '26.5545',\n",
       " '174.3',\n",
       " '374.7975',\n",
       " '120.645',\n",
       " '241.458',\n",
       " '451.3635',\n",
       " '271.95',\n",
       " '93.2925',\n",
       " '217.6335',\n",
       " '629.8425',\n",
       " '299.565',\n",
       " '95.6655',\n",
       " '942.4485',\n",
       " '247.8735',\n",
       " '881.307',\n",
       " '484.89',\n",
       " '146.223',\n",
       " '217.6335',\n",
       " '19.194',\n",
       " '130.0425',\n",
       " '298.116',\n",
       " '796.908',\n",
       " '180.621',\n",
       " '285.705',\n",
       " '456.288',\n",
       " '62.0025',\n",
       " '13.167',\n",
       " '90.825',\n",
       " '183.036',\n",
       " '655.5465',\n",
       " '155.652',\n",
       " '571.41',\n",
       " '532.728',\n",
       " '170.877',\n",
       " '33.3585',\n",
       " '794.6505',\n",
       " '310.044',\n",
       " '545.37',\n",
       " '195.594',\n",
       " '91.4025',\n",
       " '232.155',\n",
       " '69.405',\n",
       " '94.1745',\n",
       " '235.683',\n",
       " '125.517',\n",
       " '195.72',\n",
       " '263.13',\n",
       " '788.508',\n",
       " '399.756',\n",
       " '256.41',\n",
       " '94.185',\n",
       " '326.424',\n",
       " '536.991',\n",
       " '439.8975',\n",
       " '369.495',\n",
       " '30.219',\n",
       " '99.75',\n",
       " '494.76',\n",
       " '137.004',\n",
       " '69.6675',\n",
       " '163.233',\n",
       " '135.45',\n",
       " '276.948',\n",
       " '709.317',\n",
       " '69.09',\n",
       " '160.86',\n",
       " '233.52',\n",
       " '57.1725',\n",
       " '723.24',\n",
       " '148.974',\n",
       " '783.3',\n",
       " '297.108',\n",
       " '373.17',\n",
       " '354.0075',\n",
       " '44.352',\n",
       " '203.553',\n",
       " '25.263',\n",
       " '628.173',\n",
       " '352.5795',\n",
       " '229.11',\n",
       " '400.764',\n",
       " '745.395',\n",
       " '462.21',\n",
       " '587.664',\n",
       " '38.85',\n",
       " '16.107',\n",
       " '628.929',\n",
       " '200.214',\n",
       " '350.07',\n",
       " '78.603',\n",
       " '224.4375',\n",
       " '356.5485',\n",
       " '697.368',\n",
       " '423.15',\n",
       " '204.6975',\n",
       " '65.604',\n",
       " '76.356',\n",
       " '190.155',\n",
       " '272.58',\n",
       " '121.128',\n",
       " '493.794',\n",
       " '252.042',\n",
       " '93.0405',\n",
       " '209.622',\n",
       " '40.9605',\n",
       " '51.0405',\n",
       " '214.998',\n",
       " '125.664',\n",
       " '530.67',\n",
       " '295.6905',\n",
       " '745.836',\n",
       " '83.412',\n",
       " '172.011',\n",
       " '503.559',\n",
       " '145.593',\n",
       " '74.7075',\n",
       " '146.9475',\n",
       " '820.365',\n",
       " '208.677',\n",
       " '66.402',\n",
       " '392.6475',\n",
       " '218.0745',\n",
       " '185.094',\n",
       " '216.6885',\n",
       " '41.391',\n",
       " '96.138',\n",
       " '324.2925',\n",
       " '135.576',\n",
       " '410.508',\n",
       " '523.845',\n",
       " '395.892',\n",
       " '214.746',\n",
       " '152.712',\n",
       " '208.089',\n",
       " '103.635',\n",
       " '404.355',\n",
       " '49.308',\n",
       " '77.175',\n",
       " '149.3625',\n",
       " '721.98',\n",
       " '365.085',\n",
       " '150.0975',\n",
       " '404.649',\n",
       " '151.4835',\n",
       " '411.3795',\n",
       " '565.215',\n",
       " '509.4075',\n",
       " '140.6475',\n",
       " '736.4385',\n",
       " '75.5475',\n",
       " '749.7',\n",
       " '191.247',\n",
       " '141.75',\n",
       " '1042.65',\n",
       " '379.9215',\n",
       " '402.2655',\n",
       " '255.15',\n",
       " '31.752',\n",
       " '374.388',\n",
       " '394.275',\n",
       " '1002.12',\n",
       " '86.625',\n",
       " '78.7185',\n",
       " '680.064',\n",
       " '793.548',\n",
       " '209.559',\n",
       " '461.286',\n",
       " '173.208',\n",
       " '343.056',\n",
       " '484.974',\n",
       " '276.948',\n",
       " '150.78',\n",
       " '203.175',\n",
       " '193.011',\n",
       " '128.016',\n",
       " '441.693',\n",
       " '265.104',\n",
       " '352.2225',\n",
       " '507.675',\n",
       " '334.341',\n",
       " '701.8515',\n",
       " '407.316',\n",
       " '99.33',\n",
       " '345.786',\n",
       " '55.881',\n",
       " '523.3725',\n",
       " '314.538',\n",
       " '214.935',\n",
       " '79.611',\n",
       " '294.651',\n",
       " '339.36',\n",
       " '510.9615',\n",
       " '133.917',\n",
       " '253.512',\n",
       " '398.475',\n",
       " '80.661',\n",
       " '548.73',\n",
       " '83.727',\n",
       " '406.875',\n",
       " '284.9175',\n",
       " '128.4255',\n",
       " '258.678',\n",
       " '181.818',\n",
       " '248.409',\n",
       " '194.124',\n",
       " '14.679',\n",
       " '208.6875',\n",
       " '718.7565',\n",
       " '282.492',\n",
       " '72.3975',\n",
       " '288.582',\n",
       " '237.426',\n",
       " '125.055',\n",
       " '359.205',\n",
       " '45.927',\n",
       " '110.0925',\n",
       " '81.396',\n",
       " '427.812',\n",
       " '100.9155',\n",
       " '190.596',\n",
       " '85.5855',\n",
       " '120.162',\n",
       " '185.367',\n",
       " '121.59',\n",
       " '264.7575',\n",
       " '1020.705',\n",
       " '213.528',\n",
       " '17.094',\n",
       " '383.7645',\n",
       " '390.7995',\n",
       " '65.7405',\n",
       " '353.1675',\n",
       " '951.825',\n",
       " '145.068',\n",
       " '90.867',\n",
       " '147.798',\n",
       " '702.219',\n",
       " '49.812',\n",
       " '937.818',\n",
       " '348.306',\n",
       " '214.137',\n",
       " '71.568',\n",
       " '343.224',\n",
       " '91.56',\n",
       " '742.812',\n",
       " '843.0345',\n",
       " '13.419',\n",
       " '140.385',\n",
       " '20.1075',\n",
       " '290.43',\n",
       " '144.081',\n",
       " '28.4235',\n",
       " '41.076',\n",
       " '470.673',\n",
       " '138.663',\n",
       " '333.9525',\n",
       " '26.25',\n",
       " '87.234',\n",
       " '155.19',\n",
       " '731.43',\n",
       " '833.595',\n",
       " '488.985',\n",
       " '37.6845',\n",
       " '212.73',\n",
       " '767.025',\n",
       " '310.59',\n",
       " '23.751',\n",
       " '269.535',\n",
       " '572.775',\n",
       " '273.0525',\n",
       " '233.226',\n",
       " '22.659',\n",
       " '103.782',\n",
       " '527.751',\n",
       " '168.21',\n",
       " '452.865',\n",
       " '609.588',\n",
       " '338.31',\n",
       " '205.317',\n",
       " '174.615',\n",
       " '353.094',\n",
       " '360.885',\n",
       " '40.53',\n",
       " '554.148',\n",
       " '344.4',\n",
       " '194.985',\n",
       " '633.99',\n",
       " '388.29',\n",
       " '207.858',\n",
       " '431.445',\n",
       " '156.03',\n",
       " '24.108',\n",
       " '734.076',\n",
       " '72.87',\n",
       " '206.43',\n",
       " '212.688',\n",
       " '127.26',\n",
       " '209.769',\n",
       " '637.728',\n",
       " '132.762',\n",
       " '568.512',\n",
       " '103.0365',\n",
       " '432.768',\n",
       " '77.6685',\n",
       " '33.495',\n",
       " '145.74',\n",
       " '195.951',\n",
       " '92.8725',\n",
       " '203.112',\n",
       " '152.775',\n",
       " '529.515',\n",
       " '321.7725',\n",
       " '100.485',\n",
       " '666.939',\n",
       " '225.2775',\n",
       " '398.958',\n",
       " '731.6925',\n",
       " '429.1665',\n",
       " '54.0435',\n",
       " '288.015',\n",
       " '206.7975',\n",
       " '72.933',\n",
       " '377.58',\n",
       " '143.9865',\n",
       " '523.971',\n",
       " '235.872',\n",
       " '132.027',\n",
       " '514.773',\n",
       " '479.9025',\n",
       " '164.682',\n",
       " '125.706',\n",
       " '570.78',\n",
       " '926.9505',\n",
       " '160.209',\n",
       " '728.112',\n",
       " '240.975',\n",
       " '154.1295',\n",
       " '148.68',\n",
       " '122.5245',\n",
       " '77.658',\n",
       " '102.837',\n",
       " '306.81',\n",
       " '551.124',\n",
       " '96.642',\n",
       " '79.674',\n",
       " '84.756',\n",
       " '118.251',\n",
       " '74.76',\n",
       " '163.002',\n",
       " '308.91',\n",
       " '575.9775',\n",
       " '270.585',\n",
       " '416.178',\n",
       " '180.4005',\n",
       " '513.2295',\n",
       " '550.368',\n",
       " '139.923',\n",
       " '142.002',\n",
       " '118.062',\n",
       " '151.284',\n",
       " '1034.46',\n",
       " '262.458',\n",
       " '228.123',\n",
       " '203.931',\n",
       " '936.6',\n",
       " '356.328',\n",
       " '469.413',\n",
       " '208.425',\n",
       " '852.705',\n",
       " '517.965',\n",
       " '621.243',\n",
       " '586.971',\n",
       " '543.753',\n",
       " '430.71',\n",
       " '280.035',\n",
       " '74.4555',\n",
       " '152.019',\n",
       " '451.0275',\n",
       " '597.6285',\n",
       " '253.26',\n",
       " '133.434',\n",
       " '269.934',\n",
       " '145.971',\n",
       " '85.743',\n",
       " '326.256',\n",
       " '195.258',\n",
       " '75.936',\n",
       " '198.639',\n",
       " '217.182',\n",
       " '164.871',\n",
       " '226.065',\n",
       " '625.905',\n",
       " '76.755',\n",
       " '293.139',\n",
       " '178.164',\n",
       " '47.859',\n",
       " '236.88',\n",
       " '304.92',\n",
       " '46.683',\n",
       " '164.43',\n",
       " '440.937',\n",
       " '193.4625',\n",
       " '147.672',\n",
       " '87.234',\n",
       " '68.2395',\n",
       " '814.38',\n",
       " '343.413',\n",
       " '381.3915',\n",
       " '133.35',\n",
       " '394.3275',\n",
       " '209.118',\n",
       " '32.1405',\n",
       " '121.569',\n",
       " '30.408',\n",
       " '935.2665',\n",
       " '293.643',\n",
       " '84.9765',\n",
       " '708.225',\n",
       " '365.904',\n",
       " '457.38',\n",
       " '461.5275',\n",
       " '620.739',\n",
       " '273.798',\n",
       " '225.792',\n",
       " '96.1905',\n",
       " '695.2365',\n",
       " '874.125',\n",
       " '95.9175',\n",
       " '165.648',\n",
       " '127.827',\n",
       " '867.09',\n",
       " '167.895',\n",
       " '12.6945',\n",
       " '673.995',\n",
       " '246.6765',\n",
       " '175.917',\n",
       " '314.055',\n",
       " '251.7165',\n",
       " '697.935',\n",
       " '212.7825',\n",
       " '48.51',\n",
       " '92.5575',\n",
       " '165.123',\n",
       " '311.1885',\n",
       " '743.82',\n",
       " '116.907',\n",
       " '609.168',\n",
       " '63.2625',\n",
       " '182.952',\n",
       " '442.323',\n",
       " '35.3115',\n",
       " '32.529',\n",
       " '259.77',\n",
       " '397.215',\n",
       " '351.603',\n",
       " '764.19',\n",
       " '352.674',\n",
       " '252.756',\n",
       " '49.4235',\n",
       " '104.6745',\n",
       " '277.6725',\n",
       " '146.6325',\n",
       " '58.2225',\n",
       " '135.3555',\n",
       " '125.979',\n",
       " '370.125',\n",
       " '914.55',\n",
       " '207.48',\n",
       " '204.246',\n",
       " '181.881',\n",
       " '75.474',\n",
       " '300.573',\n",
       " '85.302',\n",
       " '588.42',\n",
       " '196.14',\n",
       " '231.2415',\n",
       " '282.576',\n",
       " '477.54',\n",
       " '175.917',\n",
       " '470.988',\n",
       " '308.574',\n",
       " '618.975',\n",
       " '305.55',\n",
       " '41.454',\n",
       " '36.5505',\n",
       " '310.716',\n",
       " '45.108',\n",
       " '145.404',\n",
       " '103.11',\n",
       " '136.143',\n",
       " '667.38',\n",
       " '153.048',\n",
       " '211.365',\n",
       " '663.2955',\n",
       " '404.544',\n",
       " '510.615',\n",
       " '539.343',\n",
       " '497.07',\n",
       " '458.6925',\n",
       " '113.568',\n",
       " '261.198',\n",
       " '657.531',\n",
       " '1023.75',\n",
       " '507.444',\n",
       " '101.808',\n",
       " '207.585',\n",
       " '760.4415',\n",
       " '835.2855',\n",
       " '527.5095',\n",
       " '180.6',\n",
       " '72.429',\n",
       " '131.208',\n",
       " '80.955',\n",
       " '507.906',\n",
       " '317.226',\n",
       " '733.6035',\n",
       " '130.8825',\n",
       " '829.08',\n",
       " '187.32',\n",
       " '525.231',\n",
       " '37.611',\n",
       " '142.947',\n",
       " '110.124',\n",
       " '187.866',\n",
       " '856.4535',\n",
       " '138.978',\n",
       " '270.2595',\n",
       " '98.028',\n",
       " '239.4',\n",
       " '175.0455',\n",
       " '732.27',\n",
       " '408.492',\n",
       " '383.523',\n",
       " '93.744',\n",
       " '176.4',\n",
       " '20.685',\n",
       " '557.718',\n",
       " '56.406',\n",
       " '860.475',\n",
       " '596.82',\n",
       " '616.98',\n",
       " '769.104',\n",
       " '887.922',\n",
       " '408.7335',\n",
       " '89.0715',\n",
       " '150.423',\n",
       " '79.149',\n",
       " '266.028',\n",
       " '40.341',\n",
       " '684.915',\n",
       " '55.2825',\n",
       " '116.1405',\n",
       " '597.0405',\n",
       " '93.744',\n",
       " '143.22',\n",
       " '182.91',\n",
       " '384.72',\n",
       " '267.3405',\n",
       " '817.236',\n",
       " '300.216',\n",
       " '608.076',\n",
       " '197.925',\n",
       " '232.638',\n",
       " '810.6',\n",
       " '757.365',\n",
       " '536.592',\n",
       " '56.1225',\n",
       " '233.1',\n",
       " '801.864',\n",
       " '239.589',\n",
       " '86.247',\n",
       " '401.688',\n",
       " '72.009',\n",
       " '401.268',\n",
       " '631.1445',\n",
       " '499.7265',\n",
       " '55.041',\n",
       " '137.865',\n",
       " '151.515',\n",
       " '480.0285',\n",
       " '98.049',\n",
       " '132.5625',\n",
       " '830.3715',\n",
       " '183.12',\n",
       " '397.992',\n",
       " '32.151',\n",
       " '369.684',\n",
       " '53.34',\n",
       " '548.163',\n",
       " '603.876',\n",
       " '57.6975',\n",
       " '190.4805',\n",
       " '432.9885',\n",
       " '48.7305',\n",
       " '287.91',\n",
       " '1022.385',\n",
       " '680.61',\n",
       " '97.881',\n",
       " '57.078',\n",
       " '63.9135',\n",
       " '257.145',\n",
       " '97.419',\n",
       " '455.1225',\n",
       " '144.963',\n",
       " '253.68',\n",
       " '495.3165',\n",
       " '462.672',\n",
       " '714.3255',\n",
       " '325.374',\n",
       " '195.678',\n",
       " '210.966',\n",
       " '18.6375',\n",
       " '652.89',\n",
       " '90.3',\n",
       " '422.73',\n",
       " '341.0925',\n",
       " '99.9075',\n",
       " '408.408',\n",
       " '446.964',\n",
       " '333.984',\n",
       " '284.592',\n",
       " '403.872',\n",
       " '247.59',\n",
       " '222.138',\n",
       " '100.128',\n",
       " '10.6785',\n",
       " '216.4365',\n",
       " '441.588',\n",
       " '92.442',\n",
       " '681.4395',\n",
       " '130.032',\n",
       " '681.975',\n",
       " '779.31',\n",
       " '88.704',\n",
       " '262.794',\n",
       " '99.54',\n",
       " '95.865',\n",
       " '299.3655',\n",
       " '54.999',\n",
       " '202.335',\n",
       " '281.169',\n",
       " '586.635',\n",
       " '184.086',\n",
       " '163.611',\n",
       " '63.315',\n",
       " '82.887',\n",
       " '31.227',\n",
       " '22.386',\n",
       " '295.407',\n",
       " '76.923',\n",
       " '23.499',\n",
       " '688.716',\n",
       " '624.33',\n",
       " '77.805',\n",
       " '206.808',\n",
       " '390.9465',\n",
       " '554.295',\n",
       " '503.7375',\n",
       " '345.0195',\n",
       " '177.408',\n",
       " '118.902',\n",
       " '362.817',\n",
       " '450.1035',\n",
       " '90.5835',\n",
       " '26.796',\n",
       " '106.596',\n",
       " '375.3645',\n",
       " '250.7085',\n",
       " '106.5015',\n",
       " '760.452',\n",
       " '131.922',\n",
       " '76.5765',\n",
       " '271.278',\n",
       " '182.427',\n",
       " '59.325',\n",
       " '225.015',\n",
       " '561.078',\n",
       " '97.818',\n",
       " '548.184',\n",
       " '54.9675',\n",
       " '41.7375',\n",
       " '756.168',\n",
       " '101.64',\n",
       " '348.705',\n",
       " '85.512',\n",
       " '335.895',\n",
       " '216.846',\n",
       " '175.014',\n",
       " '335.013',\n",
       " '92.295',\n",
       " '771.435',\n",
       " '102.396',\n",
       " '807.66',\n",
       " '439.215',\n",
       " '486.444',\n",
       " '485.5725',\n",
       " '148.995',\n",
       " '317.835',\n",
       " '832.944',\n",
       " '446.439',\n",
       " '297.801',\n",
       " '629.16',\n",
       " '331.128',\n",
       " '423.738',\n",
       " '193.074',\n",
       " '145.5825',\n",
       " '84.7455',\n",
       " '122.472',\n",
       " '329.196',\n",
       " '888.405',\n",
       " '435.12',\n",
       " '167.034',\n",
       " '514.605',\n",
       " '91.8225',\n",
       " '235.746',\n",
       " '782.208',\n",
       " '431.256',\n",
       " '313.74',\n",
       " '223.587',\n",
       " '44.9925',\n",
       " '397.614',\n",
       " '217.2555',\n",
       " '82.719',\n",
       " '338.2155',\n",
       " '103.131',\n",
       " '26.733',\n",
       " '611.079',\n",
       " '221.886',\n",
       " '57.876',\n",
       " '92.7255',\n",
       " '374.409',\n",
       " '833.9625',\n",
       " '53.151',\n",
       " '629.496',\n",
       " '175.035',\n",
       " '781.62',\n",
       " '470.988',\n",
       " '397.845',\n",
       " '270.018',\n",
       " '579.8415',\n",
       " '469.77',\n",
       " '290.0835',\n",
       " '360.927',\n",
       " '279.384',\n",
       " '943.299',\n",
       " '479.64',\n",
       " '266.6475',\n",
       " '74.088',\n",
       " '690.018',\n",
       " '176.925',\n",
       " '56.469',\n",
       " '188.0025',\n",
       " '222.012',\n",
       " '125.7165',\n",
       " '68.985',\n",
       " '263.97',\n",
       " '88.368',\n",
       " '415.233',\n",
       " '312.8895',\n",
       " '477.1305',\n",
       " '289.926',\n",
       " '165.9',\n",
       " '932.337',\n",
       " '96.579',\n",
       " '43.869',\n",
       " '16.275',\n",
       " '304.983',\n",
       " '69.993',\n",
       " '80.367',\n",
       " '314.685',\n",
       " '255.1815',\n",
       " '49.77',\n",
       " '181.0725',\n",
       " '888.615',\n",
       " '271.2885',\n",
       " '640.038',\n",
       " '252.252',\n",
       " '180.873',\n",
       " '104.832',\n",
       " '313.572',\n",
       " '167.58',\n",
       " '26.7225',\n",
       " '71.1585',\n",
       " '250.278',\n",
       " '244.23',\n",
       " '921.186',\n",
       " '734.706',\n",
       " '708.3195',\n",
       " '334.4775',\n",
       " '30.996',\n",
       " '520.8',\n",
       " '864.57',\n",
       " '633.108',\n",
       " '296.94',\n",
       " '804.3',\n",
       " '121.863',\n",
       " '183.645',\n",
       " '63.9975',\n",
       " '42.3675',\n",
       " '1022.49',\n",
       " '33.432',\n",
       " '69.111',\n",
       " '649.299']"
      ]
     },
     "execution_count": 52,
     "metadata": {},
     "output_type": "execute_result"
    }
   ],
   "source": [
    "sales"
   ]
  }
 ],
 "metadata": {
  "kernelspec": {
   "display_name": "Python 3",
   "language": "python",
   "name": "python3"
  },
  "language_info": {
   "codemirror_mode": {
    "name": "ipython",
    "version": 3
   },
   "file_extension": ".py",
   "mimetype": "text/x-python",
   "name": "python",
   "nbconvert_exporter": "python",
   "pygments_lexer": "ipython3",
   "version": "3.12.1"
  }
 },
 "nbformat": 4,
 "nbformat_minor": 2
}
